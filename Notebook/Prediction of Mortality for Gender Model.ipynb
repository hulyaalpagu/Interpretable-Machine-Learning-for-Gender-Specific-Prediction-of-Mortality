{
 "cells": [
  {
   "cell_type": "code",
   "execution_count": 2,
   "metadata": {
    "gather": {
     "logged": 1681462438846
    }
   },
   "outputs": [],
   "source": [
    "import pandas as pd\n",
    "from sklearn.linear_model import LogisticRegression\n",
    "from scipy import interp\n",
    "from sklearn.ensemble import RandomForestClassifier\n",
    "from sklearn.metrics import roc_curve,auc\n",
    "from sklearn.model_selection import StratifiedKFold\n",
    "import numpy as np\n",
    "from sklearn.ensemble import GradientBoostingClassifier\n",
    "import matplotlib.pyplot as plt\n",
    "from sklearn.model_selection import RandomizedSearchCV, GridSearchCV, train_test_split\n",
    "from sklearn.metrics import classification_report\n",
    "from sklearn.metrics import brier_score_loss"
   ]
  },
  {
   "cell_type": "markdown",
   "metadata": {
    "nteract": {
     "transient": {
      "deleting": false
     }
    }
   },
   "source": [
    "# **Data Merging**"
   ]
  },
  {
   "cell_type": "code",
   "execution_count": 3,
   "metadata": {
    "gather": {
     "logged": 1681462443139
    },
    "jupyter": {
     "outputs_hidden": false,
     "source_hidden": false
    },
    "nteract": {
     "transient": {
      "deleting": false
     }
    },
    "scrolled": true
   },
   "outputs": [
    {
     "name": "stderr",
     "output_type": "stream",
     "text": [
      "/tmp/ipykernel_2929592/3381012810.py:6: DtypeWarning: Columns (11,12,15,16,22,39,81,82,83,84,85,86,93,95,97,99,101,227,229,230,231,232,233,234,235,237,238,239,241,243,245,247,249,251,252,253,254,255,256,263,264,265,266,267,271,273,275,277,279,281,283,295,296,297,299,300,301,302) have mixed types. Specify dtype option on import or set low_memory=False.\n",
      "  df = pd.read_csv(f\"Prediction of Mortality for Gender Data/TexasQ{num}_{year}.csv\")\n",
      "/tmp/ipykernel_2929592/3381012810.py:6: DtypeWarning: Columns (11,15,16,22,85,86,91,93,95,97,99,101,103,109,112,115,118,119,121,227,228,229,231,232,233,234,235,236,237,239,240,241,243,245,247,249,251,252,253,263,264,265,266,267,271,273,275,277,279,281,295,296,297,299,300,301,302) have mixed types. Specify dtype option on import or set low_memory=False.\n",
      "  df = pd.read_csv(f\"Prediction of Mortality for Gender Data/TexasQ{num}_{year}.csv\")\n",
      "/tmp/ipykernel_2929592/3381012810.py:6: DtypeWarning: Columns (11,12,15,16,22,39,81,82,83,84,85,86,91,93,95,97,99,101,103,227,229,230,231,232,233,234,235,236,237,239,240,241,243,245,247,249,251,252,253,255,256,263,264,265,266,267,271,273,275,277,279,281,295,296,297,299,300,301,302) have mixed types. Specify dtype option on import or set low_memory=False.\n",
      "  df = pd.read_csv(f\"Prediction of Mortality for Gender Data/TexasQ{num}_{year}.csv\")\n",
      "/tmp/ipykernel_2929592/3381012810.py:6: DtypeWarning: Columns (10,11,15,16,22,93,95,97,99,101,109,227,228,229,230,231,232,233,234,235,236,237,239,241,243,245,247,249,251,252,253,255,256,263,264,265,266,267,271,273,275,277,279,281,295,296,297,299,300,301,302) have mixed types. Specify dtype option on import or set low_memory=False.\n",
      "  df = pd.read_csv(f\"Prediction of Mortality for Gender Data/TexasQ{num}_{year}.csv\")\n",
      "/tmp/ipykernel_2929592/3381012810.py:6: DtypeWarning: Columns (10,11,15,22,37,93,94,95,96,97,98,99,100,101,103,105,109,227,228,229,230,231,232,233,234,235,236,237,239,241,243,245,247,249,251,252,253,254,264,265,266,267,268,271,273,275,277,279,281,295,296,297,299,300,301,302) have mixed types. Specify dtype option on import or set low_memory=False.\n",
      "  df = pd.read_csv(f\"Prediction of Mortality for Gender Data/TexasQ{num}_{year}.csv\")\n",
      "/tmp/ipykernel_2929592/3381012810.py:6: DtypeWarning: Columns (11,15,16,22,36,37,88,90,92,93,94,95,96,97,98,99,100,101,227,228,229,230,231,232,233,234,235,236,237,239,241,243,245,247,249,251,254,263,264,265,266,267,271,273,275,277,279,281,295,296,297,299,300,301,302) have mixed types. Specify dtype option on import or set low_memory=False.\n",
      "  df = pd.read_csv(f\"Prediction of Mortality for Gender Data/TexasQ{num}_{year}.csv\")\n",
      "/tmp/ipykernel_2929592/3381012810.py:6: DtypeWarning: Columns (10,11,15,16,22,94,95,96,97,98,99,100,101,102,167,169,227,228,229,230,231,232,233,234,235,237,239,241,243,245,247,249,251,263,264,265,266,271,273,275,277,279,295,296,297,299,300,301,302) have mixed types. Specify dtype option on import or set low_memory=False.\n",
      "  df = pd.read_csv(f\"Prediction of Mortality for Gender Data/TexasQ{num}_{year}.csv\")\n",
      "/tmp/ipykernel_2929592/3381012810.py:6: DtypeWarning: Columns (10,11,15,16,22,36,37,93,94,95,96,97,98,99,100,101,102,103,105,167,169,227,228,229,230,231,232,233,234,235,236,237,239,241,243,245,247,249,251,254,263,264,265,266,267,271,273,275,277,279,295,296,297,299,300,301,302) have mixed types. Specify dtype option on import or set low_memory=False.\n",
      "  df = pd.read_csv(f\"Prediction of Mortality for Gender Data/TexasQ{num}_{year}.csv\")\n",
      "/tmp/ipykernel_2929592/3381012810.py:6: DtypeWarning: Columns (10,11,15,22,36,37,94,95,96,97,98,99,100,101,102,107,109,110,112,227,229,230,231,232,233,234,235,237,239,241,243,245,247,249,251,252,253,254,263,264,265,266,267,271,273,275,277,279,283,285,295,296,297,299,300,301,302) have mixed types. Specify dtype option on import or set low_memory=False.\n",
      "  df = pd.read_csv(f\"Prediction of Mortality for Gender Data/TexasQ{num}_{year}.csv\")\n",
      "/tmp/ipykernel_2929592/3381012810.py:6: DtypeWarning: Columns (11,15,22,95,96,97,98,99,100,101,102,227,228,229,230,231,232,233,234,235,237,239,241,243,245,247,249,251,252,253,254,263,264,265,266,267,271,273,275,277,279,295,296,297,299,300,301,302) have mixed types. Specify dtype option on import or set low_memory=False.\n",
      "  df = pd.read_csv(f\"Prediction of Mortality for Gender Data/TexasQ{num}_{year}.csv\")\n",
      "/tmp/ipykernel_2929592/3381012810.py:6: DtypeWarning: Columns (11,15,22,93,94,95,96,97,98,99,100,101,102,103,104,227,228,229,230,231,232,233,234,235,237,239,241,243,245,247,249,251,254,263,264,265,266,267,268,271,273,275,277,279,295,296,297,299,300,301,302) have mixed types. Specify dtype option on import or set low_memory=False.\n",
      "  df = pd.read_csv(f\"Prediction of Mortality for Gender Data/TexasQ{num}_{year}.csv\")\n",
      "/tmp/ipykernel_2929592/3381012810.py:6: DtypeWarning: Columns (11,15,22,95,96,97,98,99,100,101,102,107,109,110,112,113,115,134,136,137,139,140,142,143,145,146,148,149,151,154,227,228,229,230,231,232,233,234,235,237,239,241,243,245,247,249,251,254,263,264,265,266,267,268,271,273,275,277,279,295,296,297,299,300,301,302) have mixed types. Specify dtype option on import or set low_memory=False.\n",
      "  df = pd.read_csv(f\"Prediction of Mortality for Gender Data/TexasQ{num}_{year}.csv\")\n",
      "/tmp/ipykernel_2929592/3381012810.py:6: DtypeWarning: Columns (10,11,12,15,22,95,96,97,98,99,100,107,109,227,228,229,230,231,232,233,234,235,236,237,239,241,243,245,247,249,251,254,264,265,266,267,268,271,273,275,277,279,295,296,297,299,300,301,302) have mixed types. Specify dtype option on import or set low_memory=False.\n",
      "  df = pd.read_csv(f\"Prediction of Mortality for Gender Data/TexasQ{num}_{year}.csv\")\n",
      "/tmp/ipykernel_2929592/3381012810.py:6: DtypeWarning: Columns (10,11,15,22,36,93,94,95,96,97,98,99,100,101,102,107,109,227,228,229,230,231,232,233,234,235,236,237,239,241,243,245,247,251,254,264,265,266,267,268,269,271,273,275,277,279,295,296,297,299,300,301,302) have mixed types. Specify dtype option on import or set low_memory=False.\n",
      "  df = pd.read_csv(f\"Prediction of Mortality for Gender Data/TexasQ{num}_{year}.csv\")\n",
      "/tmp/ipykernel_2929592/3381012810.py:6: DtypeWarning: Columns (10,11,15,22,95,96,97,98,99,100,101,102,103,104,227,228,229,230,231,232,233,234,235,236,237,239,241,243,245,247,249,251,254,264,265,266,267,268,271,273,275,277,279,295,296,297,299,300,301,302) have mixed types. Specify dtype option on import or set low_memory=False.\n",
      "  df = pd.read_csv(f\"Prediction of Mortality for Gender Data/TexasQ{num}_{year}.csv\")\n",
      "/tmp/ipykernel_2929592/3381012810.py:6: DtypeWarning: Columns (10,11,15,22,37,93,94,95,96,97,98,99,100,101,103,105,109,227,228,229,230,231,232,233,234,235,236,237,239,241,243,245,247,249,251,252,253,254,264,265,266,267,268,271,273,275,277,279,281,295,296,297,299,300,301,302) have mixed types. Specify dtype option on import or set low_memory=False.\n",
      "  df = pd.read_csv(f\"Prediction of Mortality for Gender Data/TexasQ{num}_{year}.csv\")\n",
      "/tmp/ipykernel_2929592/3381012810.py:6: DtypeWarning: Columns (10,11,15,22,93,94,95,96,97,98,99,100,101,102,103,104,109,227,228,229,230,231,232,233,235,236,237,239,241,243,245,247,249,251,252,253,254,264,265,266,267,268,269,271,273,275,277,279,295,296,297,299,300,301,302) have mixed types. Specify dtype option on import or set low_memory=False.\n",
      "  df = pd.read_csv(f\"Prediction of Mortality for Gender Data/TexasQ{num}_{year}.csv\")\n",
      "/tmp/ipykernel_2929592/3381012810.py:6: DtypeWarning: Columns (10,11,15,22,37,93,94,95,96,97,98,99,100,101,103,105,109,227,228,229,230,231,232,233,234,235,236,237,239,241,243,245,247,249,251,252,253,254,264,265,266,267,268,271,273,275,277,279,281,295,296,297,299,300,301,302) have mixed types. Specify dtype option on import or set low_memory=False.\n",
      "  df = pd.read_csv(f\"Prediction of Mortality for Gender Data/TexasQ{num}_{year}.csv\")\n",
      "/tmp/ipykernel_2929592/3381012810.py:6: DtypeWarning: Columns (10,11,12,15,22,37,93,94,95,96,97,98,99,100,101,102,103,104,108,227,228,229,230,231,232,233,235,236,237,239,241,243,245,247,249,251,252,253,254,264,265,266,267,268,269,271,273,275,277,279,295,296,297,299,300,301,302) have mixed types. Specify dtype option on import or set low_memory=False.\n",
      "  df = pd.read_csv(f\"Prediction of Mortality for Gender Data/TexasQ{num}_{year}.csv\")\n"
     ]
    }
   ],
   "source": [
    "dfs = []\n",
    "\n",
    "for year in range(2011, 2016):\n",
    "    for num in range(1, 5):\n",
    "        try:\n",
    "            df = pd.read_csv(f\"Prediction of Mortality for Gender Data/TexasQ{num}_{year}.csv\")\n",
    "            dfs.append(df)\n",
    "        except FileNotFoundError:\n",
    "            continue\n",
    "\n",
    "df = pd.concat(dfs, ignore_index=True)\n"
   ]
  },
  {
   "cell_type": "markdown",
   "metadata": {
    "nteract": {
     "transient": {
      "deleting": false
     }
    }
   },
   "source": [
    "# Applying Logistic regression model with Lasso to predict mortality.\n",
    "# Calculating AUC-ROC with 5-Fold cross validation and and Brier Score"
   ]
  },
  {
   "cell_type": "code",
   "execution_count": 4,
   "metadata": {
    "gather": {
     "logged": 1681462312580
    },
    "jupyter": {
     "outputs_hidden": false,
     "source_hidden": false
    },
    "nteract": {
     "transient": {
      "deleting": false
     }
    },
    "scrolled": true
   },
   "outputs": [
    {
     "name": "stderr",
     "output_type": "stream",
     "text": [
      "/tmp/ipykernel_2929592/1819124664.py:25: DeprecationWarning: scipy.interp is deprecated and will be removed in SciPy 2.0.0, use numpy.interp instead\n",
      "  tprs.append(interp(mean_fpr, fpr, tpr))\n"
     ]
    },
    {
     "name": "stdout",
     "output_type": "stream",
     "text": [
      "[[0.16624907 1.09264494 0.95556945 0.94283481 1.01148398 0.95069403\n",
      "  0.856369   0.92736203 0.96418725 1.02558012]]\n"
     ]
    },
    {
     "name": "stderr",
     "output_type": "stream",
     "text": [
      "/tmp/ipykernel_2929592/1819124664.py:25: DeprecationWarning: scipy.interp is deprecated and will be removed in SciPy 2.0.0, use numpy.interp instead\n",
      "  tprs.append(interp(mean_fpr, fpr, tpr))\n"
     ]
    },
    {
     "name": "stdout",
     "output_type": "stream",
     "text": [
      "[[0.17324273 1.09108702 0.95302423 0.94287262 1.01319924 0.95163049\n",
      "  0.85591516 0.93719758 0.9593396  1.03031994]]\n"
     ]
    },
    {
     "name": "stderr",
     "output_type": "stream",
     "text": [
      "/tmp/ipykernel_2929592/1819124664.py:25: DeprecationWarning: scipy.interp is deprecated and will be removed in SciPy 2.0.0, use numpy.interp instead\n",
      "  tprs.append(interp(mean_fpr, fpr, tpr))\n"
     ]
    },
    {
     "name": "stdout",
     "output_type": "stream",
     "text": [
      "[[0.17453353 1.09100748 0.93779783 0.94247805 1.01168647 0.95457981\n",
      "  0.85169567 0.93744213 0.95291831 1.03196665]]\n"
     ]
    },
    {
     "name": "stderr",
     "output_type": "stream",
     "text": [
      "/tmp/ipykernel_2929592/1819124664.py:25: DeprecationWarning: scipy.interp is deprecated and will be removed in SciPy 2.0.0, use numpy.interp instead\n",
      "  tprs.append(interp(mean_fpr, fpr, tpr))\n"
     ]
    },
    {
     "name": "stdout",
     "output_type": "stream",
     "text": [
      "[[0.17769685 1.09291686 0.97874591 0.94331802 1.01188582 0.94857785\n",
      "  0.85228433 0.93429351 0.95634476 1.02687828]]\n",
      "[[0.18098234 1.08986149 0.96924909 0.94531069 1.01245964 0.94827675\n",
      "  0.8559128  0.93876183 0.9616251  1.03005755]]\n"
     ]
    },
    {
     "name": "stderr",
     "output_type": "stream",
     "text": [
      "/tmp/ipykernel_2929592/1819124664.py:25: DeprecationWarning: scipy.interp is deprecated and will be removed in SciPy 2.0.0, use numpy.interp instead\n",
      "  tprs.append(interp(mean_fpr, fpr, tpr))\n"
     ]
    }
   ],
   "source": [
    "X = df[['illness_severity','length_of_stay','type_of_admission','pat_age','list_poa_disease','complication_developed_count','list_all_surgeries','source_of_admission','race','sex_code']]#input\n",
    "\n",
    "y = (df['pat_status']).astype(int)#output\n",
    "\n",
    "logreg = LogisticRegression(penalty='l1',solver='liblinear')\n",
    "\n",
    "\n",
    "logreg.fit(X, y)\n",
    "\n",
    "y_predict1 = logreg.predict(X)\n",
    "cv = StratifiedKFold(n_splits=5,shuffle=False)\n",
    "tprs = []\n",
    "aucslrl = []\n",
    "bsLRL = []\n",
    "mean_fpr = np.linspace(0,1,100)\n",
    "i = 1\n",
    "\n",
    "\n",
    "for train,test in cv.split(X,y):\n",
    "    prediction = logreg.fit(X.iloc[train],y.iloc[train]).predict_proba(X.iloc[test])\n",
    "    logreg.score(X.iloc[test], y[test])\n",
    "   \n",
    "    bs=brier_score_loss(y[test], prediction[:, 1])\n",
    "    fpr, tpr, t = roc_curve(y[test], prediction[:, 1])\n",
    "    tprs.append(interp(mean_fpr, fpr, tpr))\n",
    "    roc_auc = auc(fpr, tpr)\n",
    "    aucslrl.append(roc_auc)\n",
    "    bsLRL.append(bs)\n",
    "    print(np.exp(logreg.coef_))\n"
   ]
  },
  {
   "cell_type": "code",
   "execution_count": 5,
   "metadata": {},
   "outputs": [
    {
     "name": "stdout",
     "output_type": "stream",
     "text": [
      "Applying Logistic regression model with Lasso\n",
      " [0.7758635170357575, 0.7912757023750271, 0.7946708757482406, 0.8003891863567044, 0.8075774254909001]\n",
      "Applying Brier Score with Logistic regression model with Lasso\n",
      " [0.06503519413626349, 0.06401924589917639, 0.06356229306022683, 0.06295652222779534, 0.06266608439641545]\n"
     ]
    }
   ],
   "source": [
    "print(\"Applying Logistic regression model with Lasso\\n\",aucslrl)\n",
    "print(\"Applying Brier Score with Logistic regression model with Lasso\\n\",bsLRL)"
   ]
  },
  {
   "cell_type": "code",
   "execution_count": 6,
   "metadata": {},
   "outputs": [
    {
     "name": "stdout",
     "output_type": "stream",
     "text": [
      "Logistic Regression with Lasso AUC(95%CI)for the score: [0.776 - 0.808]\n",
      "Logistic Regression with Lasso Brier score (95%CI): [0.063 - 0.065]\n"
     ]
    }
   ],
   "source": [
    "sorted_scoresauc = np.array(aucslrl)\n",
    "sorted_scoresbs = np.array(bsLRL)\n",
    "sorted_scoresauc.sort()\n",
    "sorted_scoresbs.sort()\n",
    "# we used to 0.025 and 0.975 to get 95% confidence interval instead.\n",
    "confidence_lowerauc = sorted_scoresauc[int(0.025 * len(aucslrl))]\n",
    "confidence_upperauc = sorted_scoresauc[int(0.975 * len(aucslrl))]\n",
    "print(\"Logistic Regression with Lasso AUC(95%CI)for the score: [{:0.3f} - {:0.3}]\".format(\n",
    "    confidence_lowerauc, confidence_upperauc))\n",
    "confidence_lowerbs = sorted_scoresbs[int(0.025 * len(bsLRL))]\n",
    "confidence_upperbs = sorted_scoresbs[int(0.975 * len(bsLRL))]\n",
    "print(\"Logistic Regression with Lasso Brier score (95%CI): [{:0.3f} - {:0.3}]\".format(\n",
    "    confidence_lowerbs, confidence_upperbs))"
   ]
  },
  {
   "cell_type": "markdown",
   "metadata": {
    "nteract": {
     "transient": {
      "deleting": false
     }
    }
   },
   "source": [
    "# **Applying Logistic regression model with Ridge to predict mortality.**\n",
    "# **Calculating AUC-ROC with 5-Fold cross validation and and Brier Score**"
   ]
  },
  {
   "cell_type": "code",
   "execution_count": 7,
   "metadata": {
    "gather": {
     "logged": 1681462312657
    },
    "jupyter": {
     "outputs_hidden": false,
     "source_hidden": false
    },
    "nteract": {
     "transient": {
      "deleting": false
     }
    }
   },
   "outputs": [
    {
     "name": "stderr",
     "output_type": "stream",
     "text": [
      "/tmp/ipykernel_2929592/3839378468.py:25: DeprecationWarning: scipy.interp is deprecated and will be removed in SciPy 2.0.0, use numpy.interp instead\n",
      "  tprs.append(interp(mean_fpr, fpr, tpr))\n"
     ]
    },
    {
     "name": "stdout",
     "output_type": "stream",
     "text": [
      "[[0.16644354 1.09265384 0.95677665 0.94300405 1.01147266 0.95068139\n",
      "  0.85637208 0.92733295 0.9650784  1.02564406]]\n"
     ]
    },
    {
     "name": "stderr",
     "output_type": "stream",
     "text": [
      "/tmp/ipykernel_2929592/3839378468.py:25: DeprecationWarning: scipy.interp is deprecated and will be removed in SciPy 2.0.0, use numpy.interp instead\n",
      "  tprs.append(interp(mean_fpr, fpr, tpr))\n"
     ]
    },
    {
     "name": "stdout",
     "output_type": "stream",
     "text": [
      "[[0.17222674 1.09112346 0.9509278  0.94250659 1.01324505 0.95166862\n",
      "  0.85597352 0.93721589 0.95688847 1.02965756]]\n"
     ]
    },
    {
     "name": "stderr",
     "output_type": "stream",
     "text": [
      "/tmp/ipykernel_2929592/3839378468.py:25: DeprecationWarning: scipy.interp is deprecated and will be removed in SciPy 2.0.0, use numpy.interp instead\n",
      "  tprs.append(interp(mean_fpr, fpr, tpr))\n"
     ]
    },
    {
     "name": "stdout",
     "output_type": "stream",
     "text": [
      "[[0.17434162 1.09102178 0.93751077 0.94243648 1.01169512 0.95456943\n",
      "  0.85170867 0.93750628 0.9524622  1.03196101]]\n"
     ]
    },
    {
     "name": "stderr",
     "output_type": "stream",
     "text": [
      "/tmp/ipykernel_2929592/3839378468.py:25: DeprecationWarning: scipy.interp is deprecated and will be removed in SciPy 2.0.0, use numpy.interp instead\n",
      "  tprs.append(interp(mean_fpr, fpr, tpr))\n"
     ]
    },
    {
     "name": "stdout",
     "output_type": "stream",
     "text": [
      "[[0.17761543 1.09292254 0.978675   0.94332496 1.01189595 0.94856954\n",
      "  0.85231026 0.93429669 0.95634321 1.02706215]]\n",
      "[[0.17976543 1.08990638 0.9667623  0.9448319  1.01253092 0.94826265\n",
      "  0.85594735 0.93879829 0.95909148 1.02934104]]\n"
     ]
    },
    {
     "name": "stderr",
     "output_type": "stream",
     "text": [
      "/tmp/ipykernel_2929592/3839378468.py:25: DeprecationWarning: scipy.interp is deprecated and will be removed in SciPy 2.0.0, use numpy.interp instead\n",
      "  tprs.append(interp(mean_fpr, fpr, tpr))\n"
     ]
    }
   ],
   "source": [
    "X = df[['illness_severity','length_of_stay','type_of_admission','pat_age','list_poa_disease','complication_developed_count','list_all_surgeries','source_of_admission','race','sex_code']]#input\n",
    "\n",
    "y = (df['pat_status']).astype(int)#output\n",
    "\n",
    "logreg = LogisticRegression(penalty='l2',solver='liblinear')\n",
    "\n",
    "\n",
    "logreg.fit(X, y)\n",
    "\n",
    "y_predict1 = logreg.predict(X)\n",
    "cv = StratifiedKFold(n_splits=5,shuffle=False)\n",
    "tprs = []\n",
    "aucslrr = []\n",
    "bsLRR=[]\n",
    "mean_fpr = np.linspace(0,1,100)\n",
    "i = 1\n",
    "\n",
    "\n",
    "for train,test in cv.split(X,y):\n",
    "    prediction = logreg.fit(X.iloc[train],y.iloc[train]).predict_proba(X.iloc[test])\n",
    "    \n",
    "    logreg.score(X.iloc[test], y[test])\n",
    "    bs=brier_score_loss(y[test], prediction[:, 1])\n",
    "    fpr, tpr, t = roc_curve(y[test], prediction[:, 1])\n",
    "    tprs.append(interp(mean_fpr, fpr, tpr))\n",
    "    roc_auc = auc(fpr, tpr)\n",
    "    aucslrr.append(roc_auc)\n",
    "    bsLRR.append(bs)\n",
    "    print(np.exp(logreg.coef_))\n"
   ]
  },
  {
   "cell_type": "code",
   "execution_count": 8,
   "metadata": {},
   "outputs": [
    {
     "name": "stdout",
     "output_type": "stream",
     "text": [
      "Applying Logistic regression model with Ridge\n",
      " [0.7758623740598374, 0.7912742797754799, 0.7946687925271267, 0.8003928522195656, 0.807617168308096]\n",
      "Applying Brier Score with Logistic regression model with Ridge\n",
      " [0.06503396989977706, 0.06401933259761086, 0.06356142221912958, 0.06295573158134934, 0.06265934881253594]\n"
     ]
    }
   ],
   "source": [
    "print(\"Applying Logistic regression model with Ridge\\n\",aucslrr)\n",
    "print(\"Applying Brier Score with Logistic regression model with Ridge\\n\",bsLRR)"
   ]
  },
  {
   "cell_type": "code",
   "execution_count": 9,
   "metadata": {},
   "outputs": [
    {
     "name": "stdout",
     "output_type": "stream",
     "text": [
      "Logistic Regression with Ridge AUC(95%CI)for the score: [0.776 - 0.808]\n",
      "Logistic Regression with Ridge Brier score (95%CI): [0.063 - 0.065]\n"
     ]
    }
   ],
   "source": [
    "sorted_scoreslrrauc = np.array(aucslrr)\n",
    "sorted_scoreslrrbs = np.array(bsLRL)\n",
    "sorted_scoreslrrauc.sort()\n",
    "sorted_scoreslrrbs.sort()\n",
    "# we used to 0.025 and 0.975 to get 95% confidence interval instead.\n",
    "confidence_lowerlrrauc = sorted_scoreslrrauc[int(0.025 * len(aucslrr))]\n",
    "confidence_upperlrrauc = sorted_scoreslrrauc[int(0.975 * len(aucslrr))]\n",
    "print(\"Logistic Regression with Ridge AUC(95%CI)for the score: [{:0.3f} - {:0.3}]\".format(\n",
    "    confidence_lowerlrrauc, confidence_upperlrrauc))\n",
    "confidence_lowerlrrbs = sorted_scoreslrrbs[int(0.025 * len(bsLRL))]\n",
    "confidence_upperlrrbs = sorted_scoreslrrbs[int(0.975 * len(bsLRL))]\n",
    "print(\"Logistic Regression with Ridge Brier score (95%CI): [{:0.3f} - {:0.3}]\".format(\n",
    "    confidence_lowerbs, confidence_upperbs))"
   ]
  },
  {
   "cell_type": "markdown",
   "metadata": {
    "nteract": {
     "transient": {
      "deleting": false
     }
    }
   },
   "source": [
    "# **Applying Gradient Boosting Model to predict mortality.**\n",
    "# **Calculating AUC-ROC with 5-Fold cross validation and and Brier Score**"
   ]
  },
  {
   "cell_type": "code",
   "execution_count": 10,
   "metadata": {
    "gather": {
     "logged": 1681462312689
    },
    "jupyter": {
     "outputs_hidden": false,
     "source_hidden": false
    },
    "nteract": {
     "transient": {
      "deleting": false
     }
    },
    "scrolled": false
   },
   "outputs": [
    {
     "name": "stderr",
     "output_type": "stream",
     "text": [
      "/tmp/ipykernel_2929592/3666192417.py:28: DeprecationWarning: scipy.interp is deprecated and will be removed in SciPy 2.0.0, use numpy.interp instead\n",
      "  tprs.append(interp(mean_fpr, fpr, tpr))\n",
      "/tmp/ipykernel_2929592/3666192417.py:28: DeprecationWarning: scipy.interp is deprecated and will be removed in SciPy 2.0.0, use numpy.interp instead\n",
      "  tprs.append(interp(mean_fpr, fpr, tpr))\n",
      "/tmp/ipykernel_2929592/3666192417.py:28: DeprecationWarning: scipy.interp is deprecated and will be removed in SciPy 2.0.0, use numpy.interp instead\n",
      "  tprs.append(interp(mean_fpr, fpr, tpr))\n",
      "/tmp/ipykernel_2929592/3666192417.py:28: DeprecationWarning: scipy.interp is deprecated and will be removed in SciPy 2.0.0, use numpy.interp instead\n",
      "  tprs.append(interp(mean_fpr, fpr, tpr))\n",
      "/tmp/ipykernel_2929592/3666192417.py:28: DeprecationWarning: scipy.interp is deprecated and will be removed in SciPy 2.0.0, use numpy.interp instead\n",
      "  tprs.append(interp(mean_fpr, fpr, tpr))\n"
     ]
    },
    {
     "data": {
      "image/png": "[encoded data removed]",
      "text/plain": [
       "<Figure size 640x480 with 1 Axes>"
      ]
     },
     "metadata": {},
     "output_type": "display_data"
    }
   ],
   "source": [
    "#GradientBoostingClassifier\n",
    "\n",
    "import numpy as np\n",
    "from sklearn.metrics import brier_score_loss, roc_auc_score\n",
    "\n",
    "X = df[['illness_severity','length_of_stay','type_of_admission','pat_age','list_poa_disease','complication_developed_count','list_all_surgeries','source_of_admission','race','sex_code']]#input\n",
    "\n",
    "y = (df['pat_status']).astype(int)#output\n",
    "\n",
    "\n",
    "clf  = GradientBoostingClassifier(n_estimators=100, learning_rate=1.0, max_depth=1, random_state=0).fit(X, y)\n",
    "\n",
    "clf.fit(X,y)\n",
    "\n",
    "y_predict1 = clf.predict(X)\n",
    "cv = StratifiedKFold(n_splits=5,shuffle=False)\n",
    "tprs = []\n",
    "aucsGBC = []\n",
    "bsGBC= []\n",
    "mean_fpr = np.linspace(0,1,100)\n",
    "i = 1\n",
    "for train,test in cv.split(X,y):\n",
    "    prediction = clf.fit(X.iloc[train],y.iloc[train]).predict_proba(X.iloc[test])\n",
    "    \n",
    "    clf.score(X.iloc[test], y[test])\n",
    "    bs=brier_score_loss(y[test], prediction[:, 1])\n",
    "    fpr, tpr, t = roc_curve(y[test], prediction[:, 1])\n",
    "    tprs.append(interp(mean_fpr, fpr, tpr))\n",
    "    roc_auc = auc(fpr, tpr)\n",
    "    aucsGBC.append(roc_auc)\n",
    "    bsGBC.append(bs)\n",
    "    predictors=list(X.iloc[train])\n",
    "    feat_imp = pd.Series(clf.feature_importances_, predictors).sort_values(ascending=False)\n",
    "    feat_imp.plot(kind='bar', title='Importance of Features')\n",
    "    plt.ylabel('Feature Importance Score')\n"
   ]
  },
  {
   "cell_type": "code",
   "execution_count": 11,
   "metadata": {},
   "outputs": [
    {
     "name": "stdout",
     "output_type": "stream",
     "text": [
      "Applying Gradient Boosting Model\n",
      " [0.8205776364915288, 0.8302771251402064, 0.832882193156326, 0.8385689263347218, 0.8413040903676288]\n",
      "Applying Brier Score with Gradient Boosting Model\n",
      " [0.0586628012409728, 0.057799353113999155, 0.05698476702641297, 0.05635439851277628, 0.05609575968744975]\n"
     ]
    }
   ],
   "source": [
    "print(\"Applying Gradient Boosting Model\\n\",aucsGBC)\n",
    "print(\"Applying Brier Score with Gradient Boosting Model\\n\",bsGBC)"
   ]
  },
  {
   "cell_type": "code",
   "execution_count": 12,
   "metadata": {},
   "outputs": [
    {
     "name": "stdout",
     "output_type": "stream",
     "text": [
      "Logistic Regression with Lasso AUC(95%CI)for the score: [0.821 - 0.841]\n",
      "Logistic Regression with Lasso Brier score (95%CI): [0.056 - 0.0587]\n"
     ]
    }
   ],
   "source": [
    "sorted_scoresGBCauc = np.array(aucsGBC)\n",
    "sorted_scoresGBCbs = np.array(bsGBC)\n",
    "sorted_scoresGBCauc.sort()\n",
    "sorted_scoresGBCbs.sort()\n",
    "# we used to 0.025 and 0.975 to get 95% confidence interval instead.\n",
    "confidence_lowerGBCauc = sorted_scoresGBCauc[int(0.025 * len(aucsGBC))]\n",
    "confidence_upperGBCauc = sorted_scoresGBCauc[int(0.975 * len(aucsGBC))]\n",
    "print(\"Logistic Regression with Lasso AUC(95%CI)for the score: [{:0.3f} - {:0.3}]\".format(\n",
    "    confidence_lowerGBCauc, confidence_upperGBCauc))\n",
    "confidence_lowerGBCbs = sorted_scoresGBCbs[int(0.025 * len(bsGBC))]\n",
    "confidence_upperGBCbs = sorted_scoresGBCbs[int(0.975 * len(bsGBC))]\n",
    "print(\"Logistic Regression with Lasso Brier score (95%CI): [{:0.3f} - {:0.3}]\".format(\n",
    "    confidence_lowerGBCbs, confidence_upperGBCbs))"
   ]
  },
  {
   "cell_type": "code",
   "execution_count": 13,
   "metadata": {},
   "outputs": [
    {
     "name": "stdout",
     "output_type": "stream",
     "text": [
      "Applying Logistic regression model with Lasso\n",
      " [0.7758635170357575, 0.7912757023750271, 0.7946708757482406, 0.8003891863567044, 0.8075774254909001]\n",
      "Applying Logistic regression model with Ridge\n",
      " [0.7758623740598374, 0.7912742797754799, 0.7946687925271267, 0.8003928522195656, 0.807617168308096]\n",
      "Applying Brier Score with Gradient Boosting Model\n",
      " [0.8205776364915288, 0.8302771251402064, 0.832882193156326, 0.8385689263347218, 0.8413040903676288]\n",
      "\n",
      "Applying Brier Score with Logistic regression model with Lasso\n",
      " [0.06503519413626349, 0.06401924589917639, 0.06356229306022683, 0.06295652222779534, 0.06266608439641545]\n",
      "Applying Brier Score with Logistic regression model with Ridge\n",
      " [0.06503396989977706, 0.06401933259761086, 0.06356142221912958, 0.06295573158134934, 0.06265934881253594]\n",
      "Applying Brier Score with Gradient Boosting Model\n",
      " [0.0586628012409728, 0.057799353113999155, 0.05698476702641297, 0.05635439851277628, 0.05609575968744975]\n"
     ]
    }
   ],
   "source": [
    "print(\"Applying Logistic regression model with Lasso\\n\",aucslrl)\n",
    "print(\"Applying Logistic regression model with Ridge\\n\",aucslrr)\n",
    "print(\"Applying Brier Score with Gradient Boosting Model\\n\",aucsGBC)\n",
    "print(\"\\nApplying Brier Score with Logistic regression model with Lasso\\n\",bsLRL)\n",
    "print(\"Applying Brier Score with Logistic regression model with Ridge\\n\",bsLRR)\n",
    "print(\"Applying Brier Score with Gradient Boosting Model\\n\",bsGBC)"
   ]
  },
  {
   "cell_type": "markdown",
   "metadata": {
    "nteract": {
     "transient": {
      "deleting": false
     }
    }
   },
   "source": [
    "# **Applying Logistic Regression Model with Lasso for each Female to predict mortality.**\n",
    "# **Calculating AUC-ROC with 5-Fold cross validation**"
   ]
  },
  {
   "cell_type": "code",
   "execution_count": 14,
   "metadata": {
    "gather": {
     "logged": 1681462312740
    },
    "jupyter": {
     "outputs_hidden": false,
     "source_hidden": false
    },
    "nteract": {
     "transient": {
      "deleting": false
     }
    }
   },
   "outputs": [
    {
     "name": "stderr",
     "output_type": "stream",
     "text": [
      "/tmp/ipykernel_2929592/3059685281.py:28: DeprecationWarning: scipy.interp is deprecated and will be removed in SciPy 2.0.0, use numpy.interp instead\n",
      "  tprs.append(interp(mean_fpr, fpr, tpr))\n",
      "/tmp/ipykernel_2929592/3059685281.py:28: DeprecationWarning: scipy.interp is deprecated and will be removed in SciPy 2.0.0, use numpy.interp instead\n",
      "  tprs.append(interp(mean_fpr, fpr, tpr))\n",
      "/tmp/ipykernel_2929592/3059685281.py:28: DeprecationWarning: scipy.interp is deprecated and will be removed in SciPy 2.0.0, use numpy.interp instead\n",
      "  tprs.append(interp(mean_fpr, fpr, tpr))\n",
      "/tmp/ipykernel_2929592/3059685281.py:28: DeprecationWarning: scipy.interp is deprecated and will be removed in SciPy 2.0.0, use numpy.interp instead\n",
      "  tprs.append(interp(mean_fpr, fpr, tpr))\n",
      "/tmp/ipykernel_2929592/3059685281.py:28: DeprecationWarning: scipy.interp is deprecated and will be removed in SciPy 2.0.0, use numpy.interp instead\n",
      "  tprs.append(interp(mean_fpr, fpr, tpr))\n"
     ]
    }
   ],
   "source": [
    "dfl1F = df[['illness_severity','length_of_stay','type_of_admission','pat_age','list_poa_disease','complication_developed_count','list_all_surgeries','source_of_admission','race','sex_code','pat_status']].copy()\n",
    "dfl1F=df.loc[df['sex_code'] == 1]\n",
    "dfl1F = dfl1F.reset_index(drop=True)\n",
    "\n",
    "X = dfl1F[['illness_severity','length_of_stay','type_of_admission','pat_age','list_poa_disease','complication_developed_count','list_all_surgeries','source_of_admission','race']]#input\n",
    "\n",
    "y = (dfl1F['pat_status']).astype(int)#output\n",
    "\n",
    "logreg = LogisticRegression(penalty='l1',solver='liblinear')\n",
    "\n",
    "\n",
    "logreg.fit(X, y)\n",
    "\n",
    "y_predict1 = logreg.predict(X)\n",
    "cv = StratifiedKFold(n_splits=5,shuffle=False)\n",
    "tprs = []\n",
    "aucsl1F = []\n",
    "bsLRLF = []\n",
    "mean_fpr = np.linspace(0,1,100)\n",
    "i = 1\n",
    "\n",
    "\n",
    "for train,test in cv.split(X,y):\n",
    "    prediction = logreg.fit(X.iloc[train],y.iloc[train]).predict_proba(X.iloc[test])\n",
    "    logreg.score(X.iloc[test], y[test])\n",
    "    bs=brier_score_loss(y[test], prediction[:, 1])\n",
    "    fpr, tpr, t = roc_curve(y[test], prediction[:, 1])\n",
    "    tprs.append(interp(mean_fpr, fpr, tpr))\n",
    "    roc_auc = auc(fpr, tpr)\n",
    "    aucsl1F.append(roc_auc)\n",
    "    bsLRLF.append(bs)"
   ]
  },
  {
   "cell_type": "markdown",
   "metadata": {
    "nteract": {
     "transient": {
      "deleting": false
     }
    }
   },
   "source": [
    "# **Applying Logistic regression model with Lasso for each Man to predict mortality.**\n",
    "# **Calculating AUC-ROC with 5-Fold cross validation**"
   ]
  },
  {
   "cell_type": "code",
   "execution_count": 15,
   "metadata": {
    "gather": {
     "logged": 1681462312769
    },
    "jupyter": {
     "outputs_hidden": false,
     "source_hidden": false
    },
    "nteract": {
     "transient": {
      "deleting": false
     }
    }
   },
   "outputs": [
    {
     "name": "stderr",
     "output_type": "stream",
     "text": [
      "/tmp/ipykernel_2929592/3413163292.py:28: DeprecationWarning: scipy.interp is deprecated and will be removed in SciPy 2.0.0, use numpy.interp instead\n",
      "  tprs.append(interp(mean_fpr, fpr, tpr))\n",
      "/tmp/ipykernel_2929592/3413163292.py:28: DeprecationWarning: scipy.interp is deprecated and will be removed in SciPy 2.0.0, use numpy.interp instead\n",
      "  tprs.append(interp(mean_fpr, fpr, tpr))\n",
      "/tmp/ipykernel_2929592/3413163292.py:28: DeprecationWarning: scipy.interp is deprecated and will be removed in SciPy 2.0.0, use numpy.interp instead\n",
      "  tprs.append(interp(mean_fpr, fpr, tpr))\n",
      "/tmp/ipykernel_2929592/3413163292.py:28: DeprecationWarning: scipy.interp is deprecated and will be removed in SciPy 2.0.0, use numpy.interp instead\n",
      "  tprs.append(interp(mean_fpr, fpr, tpr))\n",
      "/tmp/ipykernel_2929592/3413163292.py:28: DeprecationWarning: scipy.interp is deprecated and will be removed in SciPy 2.0.0, use numpy.interp instead\n",
      "  tprs.append(interp(mean_fpr, fpr, tpr))\n"
     ]
    }
   ],
   "source": [
    "dfl1M = df[['illness_severity','length_of_stay','type_of_admission','pat_age','list_poa_disease','complication_developed_count','list_all_surgeries','source_of_admission','race','sex_code','pat_status']].copy()\n",
    "dfl1M=df.loc[df['sex_code'] == 0]\n",
    "dfl1M = dfl1M.reset_index(drop=True)\n",
    "\n",
    "X = dfl1M[['illness_severity','length_of_stay','type_of_admission','pat_age','list_poa_disease','complication_developed_count','list_all_surgeries','source_of_admission','race']]#input\n",
    "\n",
    "y = (dfl1M['pat_status']).astype(int)#output\n",
    "\n",
    "logreg = LogisticRegression(penalty='l1',solver='liblinear')\n",
    "\n",
    "\n",
    "logreg.fit(X, y)\n",
    "\n",
    "y_predict1 = logreg.predict(X)\n",
    "cv = StratifiedKFold(n_splits=5,shuffle=False)\n",
    "tprs = []\n",
    "aucsl1M = []\n",
    "bsLRLM = []\n",
    "mean_fpr = np.linspace(0,1,100)\n",
    "i = 1\n",
    "\n",
    "\n",
    "for train,test in cv.split(X,y):\n",
    "    prediction = logreg.fit(X.iloc[train],y.iloc[train]).predict_proba(X.iloc[test])\n",
    "    logreg.score(X.iloc[test], y[test])\n",
    "    bs=brier_score_loss(y[test], prediction[:, 1])\n",
    "    fpr, tpr, t = roc_curve(y[test], prediction[:, 1])\n",
    "    tprs.append(interp(mean_fpr, fpr, tpr))\n",
    "    roc_auc = auc(fpr, tpr)\n",
    "    aucsl1M.append(roc_auc)\n",
    "    bsLRLM.append(bs)\n"
   ]
  },
  {
   "cell_type": "code",
   "execution_count": 16,
   "metadata": {
    "gather": {
     "logged": 1681462312791
    },
    "jupyter": {
     "outputs_hidden": false,
     "source_hidden": false
    },
    "nteract": {
     "transient": {
      "deleting": false
     }
    }
   },
   "outputs": [
    {
     "name": "stdout",
     "output_type": "stream",
     "text": [
      "Applying Logistic regression model with Lasso for each Female to predict mortality\n",
      " [0.7760620920054281, 0.7915835308504628, 0.7938250996898157, 0.8013583655546146, 0.8088217724212051]\n",
      "Applying  Brier Score with Logistic regression model with Lasso for each Female to predict mortality\n",
      " [0.06189786906907122, 0.060892828457689424, 0.06056203089972477, 0.05992995197687629, 0.05948906845758387]\n",
      "Applying Logistic regression model with Lasso for each Man to predict mortality\n",
      " [0.77491080022407, 0.7904363347500122, 0.7942982750964288, 0.7992165318809918, 0.8056996216378136]\n",
      "Applying Brier Score with Logistic regression model with Lasso for each Man to predict mortality\n",
      " [0.06843981672947241, 0.0673889929884961, 0.06687983043982189, 0.06623671033180618, 0.0660819291503878]\n"
     ]
    }
   ],
   "source": [
    "print(\"Applying Logistic regression model with Lasso for each Female to predict mortality\\n\",aucsl1F)\n",
    "print(\"Applying  Brier Score with Logistic regression model with Lasso for each Female to predict mortality\\n\",bsLRLF)\n",
    "print(\"Applying Logistic regression model with Lasso for each Man to predict mortality\\n\",aucsl1M)\n",
    "print(\"Applying Brier Score with Logistic regression model with Lasso for each Man to predict mortality\\n\",bsLRLM)"
   ]
  },
  {
   "cell_type": "code",
   "execution_count": 17,
   "metadata": {},
   "outputs": [
    {
     "name": "stdout",
     "output_type": "stream",
     "text": [
      "Logistic Regression with Lasso for Female AUC(95%CI)for the score: [0.776 - 0.809]\n",
      "Logistic Regression with Lasso for Female Brier score (95%CI): [0.059 - 0.0619]\n",
      "Logistic Regression with Lasso for Men AUC(95%CI)for the score: [0.775 - 0.806]\n",
      "Logistic Regression with Lasso for Men Brier score (95%CI): [0.066 - 0.0684]\n"
     ]
    }
   ],
   "source": [
    "sorted_scoresLRLFauc = np.array(aucsl1F)\n",
    "sorted_scoresLRLFbs = np.array(bsLRLF)\n",
    "sorted_scoresLRLFauc.sort()\n",
    "sorted_scoresLRLFbs.sort()\n",
    "# we used to 0.025 and 0.975 to get 95% confidence interval instead.\n",
    "confidence_lowerLRLFauc = sorted_scoresLRLFauc[int(0.025 * len(aucsl1F))]\n",
    "confidence_upperLRLFauc = sorted_scoresLRLFauc[int(0.975 * len(aucsl1F))]\n",
    "print(\"Logistic Regression with Lasso for Female AUC(95%CI)for the score: [{:0.3f} - {:0.3}]\".format(\n",
    "    confidence_lowerLRLFauc, confidence_upperLRLFauc))\n",
    "confidence_lowerLRLFbs = sorted_scoresLRLFbs[int(0.025 * len(bsLRLF))]\n",
    "confidence_upperLRLFbs = sorted_scoresLRLFbs[int(0.975 * len(bsLRLF))]\n",
    "print(\"Logistic Regression with Lasso for Female Brier score (95%CI): [{:0.3f} - {:0.3}]\".format(\n",
    "    confidence_lowerLRLFbs, confidence_upperLRLFbs))\n",
    "\n",
    "sorted_scoresLRLMauc = np.array(aucsl1M)\n",
    "sorted_scoresLRLMbs = np.array(bsLRLM)\n",
    "sorted_scoresLRLMauc.sort()\n",
    "sorted_scoresLRLMbs.sort()\n",
    "# we used to 0.025 and 0.975 to get 95% confidence interval instead.\n",
    "confidence_lowerLRLMauc = sorted_scoresLRLMauc[int(0.025 * len(aucsl1M))]\n",
    "confidence_upperLRLMauc = sorted_scoresLRLMauc[int(0.975 * len(aucsl1M))]\n",
    "print(\"Logistic Regression with Lasso for Men AUC(95%CI)for the score: [{:0.3f} - {:0.3}]\".format(\n",
    "    confidence_lowerLRLMauc, confidence_upperLRLMauc))\n",
    "confidence_lowerLRLMbs = sorted_scoresLRLMbs[int(0.025 * len(bsLRLM))]\n",
    "confidence_upperLRLMbs = sorted_scoresLRLMbs[int(0.975 * len(bsLRLM))]\n",
    "print(\"Logistic Regression with Lasso for Men Brier score (95%CI): [{:0.3f} - {:0.3}]\".format(\n",
    "    confidence_lowerLRLMbs, confidence_upperLRLMbs))"
   ]
  },
  {
   "cell_type": "markdown",
   "metadata": {
    "nteract": {
     "transient": {
      "deleting": false
     }
    }
   },
   "source": [
    "# **Applying Logistic regression model with Ridge for each Female to predict mortality.**\n",
    "# **Calculating AUC-ROC with 5-Fold cross validation**"
   ]
  },
  {
   "cell_type": "code",
   "execution_count": 18,
   "metadata": {
    "gather": {
     "logged": 1681462312811
    },
    "jupyter": {
     "outputs_hidden": false,
     "source_hidden": false
    },
    "nteract": {
     "transient": {
      "deleting": false
     }
    }
   },
   "outputs": [
    {
     "name": "stderr",
     "output_type": "stream",
     "text": [
      "/tmp/ipykernel_2929592/827873577.py:28: DeprecationWarning: scipy.interp is deprecated and will be removed in SciPy 2.0.0, use numpy.interp instead\n",
      "  tprs.append(interp(mean_fpr, fpr, tpr))\n",
      "/tmp/ipykernel_2929592/827873577.py:28: DeprecationWarning: scipy.interp is deprecated and will be removed in SciPy 2.0.0, use numpy.interp instead\n",
      "  tprs.append(interp(mean_fpr, fpr, tpr))\n",
      "/tmp/ipykernel_2929592/827873577.py:28: DeprecationWarning: scipy.interp is deprecated and will be removed in SciPy 2.0.0, use numpy.interp instead\n",
      "  tprs.append(interp(mean_fpr, fpr, tpr))\n",
      "/tmp/ipykernel_2929592/827873577.py:28: DeprecationWarning: scipy.interp is deprecated and will be removed in SciPy 2.0.0, use numpy.interp instead\n",
      "  tprs.append(interp(mean_fpr, fpr, tpr))\n",
      "/tmp/ipykernel_2929592/827873577.py:28: DeprecationWarning: scipy.interp is deprecated and will be removed in SciPy 2.0.0, use numpy.interp instead\n",
      "  tprs.append(interp(mean_fpr, fpr, tpr))\n"
     ]
    }
   ],
   "source": [
    "dfl2F = df[['illness_severity','length_of_stay','type_of_admission','pat_age','list_poa_disease','complication_developed_count','list_all_surgeries','source_of_admission','race','sex_code','pat_status']].copy()\n",
    "dfl2F=df.loc[df['sex_code'] == 1]\n",
    "dfl2F = dfl2F.reset_index(drop=True)\n",
    "\n",
    "X = dfl2F[['illness_severity','length_of_stay','type_of_admission','pat_age','list_poa_disease','complication_developed_count','list_all_surgeries','source_of_admission','race']]#input\n",
    "\n",
    "y = (dfl2F['pat_status']).astype(int)#output\n",
    "\n",
    "logreg = LogisticRegression(penalty='l2',solver='liblinear')\n",
    "\n",
    "\n",
    "logreg.fit(X, y)\n",
    "\n",
    "y_predict1 = logreg.predict(X)\n",
    "cv = StratifiedKFold(n_splits=5,shuffle=False)\n",
    "tprs = []\n",
    "aucsl2F = []\n",
    "bsLRRF = []\n",
    "mean_fpr = np.linspace(0,1,100)\n",
    "i = 1\n",
    "\n",
    "\n",
    "for train,test in cv.split(X,y):\n",
    "    prediction = logreg.fit(X.iloc[train],y.iloc[train]).predict_proba(X.iloc[test])\n",
    "    logreg.score(X.iloc[test], y[test])\n",
    "    bs=brier_score_loss(y[test], prediction[:, 1])\n",
    "    fpr, tpr, t = roc_curve(y[test], prediction[:, 1])\n",
    "    tprs.append(interp(mean_fpr, fpr, tpr))\n",
    "    roc_auc = auc(fpr, tpr)\n",
    "    aucsl2F.append(roc_auc)\n",
    "    bsLRRF.append(bs)\n"
   ]
  },
  {
   "cell_type": "markdown",
   "metadata": {
    "nteract": {
     "transient": {
      "deleting": false
     }
    }
   },
   "source": [
    "# **Applying Logistic regression model with Ridge for each Man to predict mortality.**\n",
    "# **Calculating AUC-ROC with 5-Fold cross validation**"
   ]
  },
  {
   "cell_type": "code",
   "execution_count": 19,
   "metadata": {
    "gather": {
     "logged": 1681462312837
    },
    "jupyter": {
     "outputs_hidden": false,
     "source_hidden": false
    },
    "nteract": {
     "transient": {
      "deleting": false
     }
    }
   },
   "outputs": [
    {
     "name": "stderr",
     "output_type": "stream",
     "text": [
      "/tmp/ipykernel_2929592/2588430070.py:28: DeprecationWarning: scipy.interp is deprecated and will be removed in SciPy 2.0.0, use numpy.interp instead\n",
      "  tprs.append(interp(mean_fpr, fpr, tpr))\n",
      "/tmp/ipykernel_2929592/2588430070.py:28: DeprecationWarning: scipy.interp is deprecated and will be removed in SciPy 2.0.0, use numpy.interp instead\n",
      "  tprs.append(interp(mean_fpr, fpr, tpr))\n",
      "/tmp/ipykernel_2929592/2588430070.py:28: DeprecationWarning: scipy.interp is deprecated and will be removed in SciPy 2.0.0, use numpy.interp instead\n",
      "  tprs.append(interp(mean_fpr, fpr, tpr))\n",
      "/tmp/ipykernel_2929592/2588430070.py:28: DeprecationWarning: scipy.interp is deprecated and will be removed in SciPy 2.0.0, use numpy.interp instead\n",
      "  tprs.append(interp(mean_fpr, fpr, tpr))\n",
      "/tmp/ipykernel_2929592/2588430070.py:28: DeprecationWarning: scipy.interp is deprecated and will be removed in SciPy 2.0.0, use numpy.interp instead\n",
      "  tprs.append(interp(mean_fpr, fpr, tpr))\n"
     ]
    }
   ],
   "source": [
    "dfl2M = df[['illness_severity','length_of_stay','type_of_admission','pat_age','list_poa_disease','complication_developed_count','list_all_surgeries','source_of_admission','race','sex_code','pat_status']].copy()\n",
    "dfl2M=df.loc[df['sex_code'] == 0]\n",
    "dfl2M = dfl2M.reset_index(drop=True)\n",
    "\n",
    "X = dfl2M[['illness_severity','length_of_stay','type_of_admission','pat_age','list_poa_disease','complication_developed_count','list_all_surgeries','source_of_admission','race']]#input\n",
    "\n",
    "y = (dfl2M['pat_status']).astype(int)#output\n",
    "\n",
    "logreg = LogisticRegression(penalty='l2',solver='liblinear')\n",
    "\n",
    "\n",
    "logreg.fit(X, y)\n",
    "\n",
    "y_predict1 = logreg.predict(X)\n",
    "cv = StratifiedKFold(n_splits=5,shuffle=False)\n",
    "tprs = []\n",
    "aucsl2M = []\n",
    "bsLRRM = []\n",
    "mean_fpr = np.linspace(0,1,100)\n",
    "i = 1\n",
    "\n",
    "\n",
    "for train,test in cv.split(X,y):\n",
    "    prediction = logreg.fit(X.iloc[train],y.iloc[train]).predict_proba(X.iloc[test])\n",
    "    logreg.score(X.iloc[test], y[test])\n",
    "    bs=brier_score_loss(y[test], prediction[:, 1])\n",
    "    fpr, tpr, t = roc_curve(y[test], prediction[:, 1])\n",
    "    tprs.append(interp(mean_fpr, fpr, tpr))\n",
    "    roc_auc = auc(fpr, tpr)\n",
    "    aucsl2M.append(roc_auc)\n",
    "    bsLRRM.append(bs)\n",
    "    "
   ]
  },
  {
   "cell_type": "code",
   "execution_count": 20,
   "metadata": {
    "gather": {
     "logged": 1681462312857
    },
    "jupyter": {
     "outputs_hidden": false,
     "source_hidden": false
    },
    "nteract": {
     "transient": {
      "deleting": false
     }
    }
   },
   "outputs": [
    {
     "name": "stdout",
     "output_type": "stream",
     "text": [
      "Applying Logistic regression model with Ridge for each Female to predict mortality\n",
      " [0.7760328508138711, 0.7915992708877633, 0.7938292736706465, 0.8013542087191344, 0.8088389094366717]\n",
      "Applying Brier Score with Logistic regression model with Ridge for each Female to predict mortality\n",
      " [0.06190189541898443, 0.06089339856506567, 0.060561318238564324, 0.05992488663648095, 0.059480190318040346]\n",
      "Applying Logistic regression model with Ridge for each Man to predict mortality\n",
      " [0.7749006427497841, 0.7903977108454338, 0.794311640067149, 0.7992427378310225, 0.8056988448523426]\n",
      "Applying Brier Score with Logistic regression model with Ridge for each Man to predict mortality\n",
      " [0.06844114046708018, 0.06738860908783924, 0.0668761368248241, 0.06623007378478567, 0.066082038531666]\n"
     ]
    }
   ],
   "source": [
    "print(\"Applying Logistic regression model with Ridge for each Female to predict mortality\\n\",aucsl2F)\n",
    "print(\"Applying Brier Score with Logistic regression model with Ridge for each Female to predict mortality\\n\",bsLRRF)\n",
    "print(\"Applying Logistic regression model with Ridge for each Man to predict mortality\\n\",aucsl2M)\n",
    "print(\"Applying Brier Score with Logistic regression model with Ridge for each Man to predict mortality\\n\",bsLRRM)"
   ]
  },
  {
   "cell_type": "code",
   "execution_count": 21,
   "metadata": {},
   "outputs": [
    {
     "name": "stdout",
     "output_type": "stream",
     "text": [
      "Logistic Regression with Ridge for Female AUC(95%CI)for the score: [0.776 - 0.809]\n",
      "Logistic Regression with Ridge for Female Brier score (95%CI): [0.059 - 0.0619]\n",
      "Logistic Regression with Ridge for Men AUC(95%CI)for the score: [0.775 - 0.806]\n",
      "Logistic Regression with Ridge for Men Brier score (95%CI): [0.066 - 0.0684]\n"
     ]
    }
   ],
   "source": [
    "sorted_scoresLRRFauc = np.array(aucsl2F)\n",
    "sorted_scoresLRRFbs = np.array(bsLRRF)\n",
    "sorted_scoresLRRFauc.sort()\n",
    "sorted_scoresLRRFbs.sort()\n",
    "# we used to 0.025 and 0.975 to get 95% confidence interval instead.\n",
    "confidence_lowerLRRFauc = sorted_scoresLRRFauc[int(0.025 * len(aucsl2F))]\n",
    "confidence_upperLRRFauc = sorted_scoresLRRFauc[int(0.975 * len(aucsl2F))]\n",
    "print(\"Logistic Regression with Ridge for Female AUC(95%CI)for the score: [{:0.3f} - {:0.3}]\".format(\n",
    "    confidence_lowerLRRFauc, confidence_upperLRRFauc))\n",
    "confidence_lowerLRRFbs = sorted_scoresLRRFbs[int(0.025 * len(bsLRRF))]\n",
    "confidence_upperLRRFbs = sorted_scoresLRRFbs[int(0.975 * len(bsLRRF))]\n",
    "print(\"Logistic Regression with Ridge for Female Brier score (95%CI): [{:0.3f} - {:0.3}]\".format(\n",
    "    confidence_lowerLRRFbs, confidence_upperLRRFbs))\n",
    "\n",
    "sorted_scoresLRRMauc = np.array(aucsl2M)\n",
    "sorted_scoresLRRMbs = np.array(bsLRRM)\n",
    "sorted_scoresLRRMauc.sort()\n",
    "sorted_scoresLRRMbs.sort()\n",
    "# we used to 0.025 and 0.975 to get 95% confidence interval instead.\n",
    "confidence_lowerLRRMauc = sorted_scoresLRRMauc[int(0.025 * len(aucsl2M))]\n",
    "confidence_upperLRRMauc = sorted_scoresLRRMauc[int(0.975 * len(aucsl2M))]\n",
    "print(\"Logistic Regression with Ridge for Men AUC(95%CI)for the score: [{:0.3f} - {:0.3}]\".format(\n",
    "    confidence_lowerLRRMauc, confidence_upperLRRMauc))\n",
    "confidence_lowerLRRMbs = sorted_scoresLRRMbs[int(0.025 * len(bsLRLM))]\n",
    "confidence_upperLRRMbs = sorted_scoresLRRMbs[int(0.975 * len(bsLRLM))]\n",
    "print(\"Logistic Regression with Ridge for Men Brier score (95%CI): [{:0.3f} - {:0.3}]\".format(\n",
    "    confidence_lowerLRRMbs, confidence_upperLRRMbs))"
   ]
  },
  {
   "cell_type": "markdown",
   "metadata": {
    "nteract": {
     "transient": {
      "deleting": false
     }
    }
   },
   "source": [
    "# **Applying Gradient Boosting Model for each Female to predict mortality.**\n",
    "# **Calculating AUC-ROC with 5-Fold cross validation**"
   ]
  },
  {
   "cell_type": "code",
   "execution_count": 22,
   "metadata": {
    "gather": {
     "logged": 1681462312874
    },
    "jupyter": {
     "outputs_hidden": false,
     "source_hidden": false
    },
    "nteract": {
     "transient": {
      "deleting": false
     }
    }
   },
   "outputs": [
    {
     "name": "stderr",
     "output_type": "stream",
     "text": [
      "/tmp/ipykernel_2929592/3887321416.py:26: DeprecationWarning: scipy.interp is deprecated and will be removed in SciPy 2.0.0, use numpy.interp instead\n",
      "  tprs.append(interp(mean_fpr, fpr, tpr))\n",
      "/tmp/ipykernel_2929592/3887321416.py:26: DeprecationWarning: scipy.interp is deprecated and will be removed in SciPy 2.0.0, use numpy.interp instead\n",
      "  tprs.append(interp(mean_fpr, fpr, tpr))\n",
      "/tmp/ipykernel_2929592/3887321416.py:26: DeprecationWarning: scipy.interp is deprecated and will be removed in SciPy 2.0.0, use numpy.interp instead\n",
      "  tprs.append(interp(mean_fpr, fpr, tpr))\n",
      "/tmp/ipykernel_2929592/3887321416.py:26: DeprecationWarning: scipy.interp is deprecated and will be removed in SciPy 2.0.0, use numpy.interp instead\n",
      "  tprs.append(interp(mean_fpr, fpr, tpr))\n",
      "/tmp/ipykernel_2929592/3887321416.py:26: DeprecationWarning: scipy.interp is deprecated and will be removed in SciPy 2.0.0, use numpy.interp instead\n",
      "  tprs.append(interp(mean_fpr, fpr, tpr))\n"
     ]
    }
   ],
   "source": [
    "#GradientBoostingClassifier\n",
    "dfGBCF = df[['illness_severity','length_of_stay','type_of_admission','pat_age','list_poa_disease','complication_developed_count','list_all_surgeries','source_of_admission','race','sex_code','pat_status']].copy()\n",
    "dfGBCF=df.loc[df['sex_code'] == 1]\n",
    "dfGBCF = dfGBCF.reset_index(drop=True)\n",
    "\n",
    "X = dfGBCF[['illness_severity','length_of_stay','type_of_admission','pat_age','list_poa_disease','complication_developed_count','list_all_surgeries','source_of_admission','race']]#input\n",
    "\n",
    "y = (dfGBCF['pat_status']).astype(int)#output\n",
    "\n",
    "\n",
    "clf  = GradientBoostingClassifier(n_estimators=100, learning_rate=1.0, max_depth=1, random_state=0).fit(X, y)\n",
    "\n",
    "clf.fit(X,y)\n",
    "y_predict1 = clf.predict(X)\n",
    "cv = StratifiedKFold(n_splits=5,shuffle=False)\n",
    "tprs = []\n",
    "aucsGBCF = []\n",
    "bsGBCF= []\n",
    "mean_fpr = np.linspace(0,1,100)\n",
    "i = 1\n",
    "for train,test in cv.split(X,y):\n",
    "    prediction = clf.fit(X.iloc[train],y.iloc[train]).predict_proba(X.iloc[test])\n",
    "    clf.score(X.iloc[test], y[test])\n",
    "    bs=brier_score_loss(y[test], prediction[:, 1])\n",
    "    fpr, tpr, t = roc_curve(y[test], prediction[:, 1])\n",
    "    tprs.append(interp(mean_fpr, fpr, tpr))\n",
    "    roc_auc = auc(fpr, tpr)\n",
    "    aucsGBCF.append(roc_auc)\n",
    "    bsGBCF.append(bs)\n",
    "    "
   ]
  },
  {
   "cell_type": "markdown",
   "metadata": {
    "nteract": {
     "transient": {
      "deleting": false
     }
    }
   },
   "source": [
    "# **Applying Gradient Boosting Model for each Man to predict mortality.**\n",
    "\n",
    "# **Calculating AUC-ROC with 5-Fold cross validation**"
   ]
  },
  {
   "cell_type": "code",
   "execution_count": 23,
   "metadata": {
    "gather": {
     "logged": 1681462312895
    },
    "jupyter": {
     "outputs_hidden": false,
     "source_hidden": false
    },
    "nteract": {
     "transient": {
      "deleting": false
     }
    }
   },
   "outputs": [
    {
     "name": "stderr",
     "output_type": "stream",
     "text": [
      "/tmp/ipykernel_2929592/270429393.py:27: DeprecationWarning: scipy.interp is deprecated and will be removed in SciPy 2.0.0, use numpy.interp instead\n",
      "  tprs.append(interp(mean_fpr, fpr, tpr))\n",
      "/tmp/ipykernel_2929592/270429393.py:27: DeprecationWarning: scipy.interp is deprecated and will be removed in SciPy 2.0.0, use numpy.interp instead\n",
      "  tprs.append(interp(mean_fpr, fpr, tpr))\n",
      "/tmp/ipykernel_2929592/270429393.py:27: DeprecationWarning: scipy.interp is deprecated and will be removed in SciPy 2.0.0, use numpy.interp instead\n",
      "  tprs.append(interp(mean_fpr, fpr, tpr))\n",
      "/tmp/ipykernel_2929592/270429393.py:27: DeprecationWarning: scipy.interp is deprecated and will be removed in SciPy 2.0.0, use numpy.interp instead\n",
      "  tprs.append(interp(mean_fpr, fpr, tpr))\n",
      "/tmp/ipykernel_2929592/270429393.py:27: DeprecationWarning: scipy.interp is deprecated and will be removed in SciPy 2.0.0, use numpy.interp instead\n",
      "  tprs.append(interp(mean_fpr, fpr, tpr))\n"
     ]
    }
   ],
   "source": [
    "#GradientBoostingClassifier\n",
    "dfGBCM = df[['illness_severity','length_of_stay','type_of_admission','pat_age','list_poa_disease','complication_developed_count','list_all_surgeries','source_of_admission','race','sex_code','pat_status']].copy()\n",
    "dfGBCM=df.loc[df['sex_code'] == 0]\n",
    "dfGBCM = dfGBCM.reset_index(drop=True)\n",
    "\n",
    "X = dfGBCM[['illness_severity','length_of_stay','type_of_admission','pat_age','list_poa_disease','complication_developed_count','list_all_surgeries','source_of_admission','race']]#input\n",
    "\n",
    "y = (dfGBCM['pat_status']).astype(int)#output\n",
    "\n",
    "\n",
    "clf  = GradientBoostingClassifier(n_estimators=100, learning_rate=1.0, max_depth=1, random_state=0).fit(X, y)\n",
    "\n",
    "clf.fit(X,y)\n",
    "\n",
    "y_predict1 = clf.predict(X)\n",
    "cv = StratifiedKFold(n_splits=5,shuffle=False)\n",
    "tprs = []\n",
    "aucsGBCM = []\n",
    "bsGBCM= []\n",
    "mean_fpr = np.linspace(0,1,100)\n",
    "i = 1\n",
    "for train,test in cv.split(X,y):\n",
    "    prediction = clf.fit(X.iloc[train],y.iloc[train]).predict_proba(X.iloc[test])\n",
    "    clf.score(X.iloc[test], y[test])\n",
    "    bs=brier_score_loss(y[test], prediction[:, 1])\n",
    "    fpr, tpr, t = roc_curve(y[test], prediction[:, 1])\n",
    "    tprs.append(interp(mean_fpr, fpr, tpr))\n",
    "    roc_auc = auc(fpr, tpr)\n",
    "    aucsGBCM.append(roc_auc)\n",
    "    bsGBCM.append(bs)\n"
   ]
  },
  {
   "cell_type": "code",
   "execution_count": 24,
   "metadata": {
    "gather": {
     "logged": 1681462312918
    },
    "jupyter": {
     "outputs_hidden": false,
     "source_hidden": false
    },
    "nteract": {
     "transient": {
      "deleting": false
     }
    }
   },
   "outputs": [
    {
     "name": "stdout",
     "output_type": "stream",
     "text": [
      "Applying Gradient Boosting Model for each Female to predict mortality.\n",
      " [0.8234153375523068, 0.8323400140362973, 0.835048498797261, 0.8414416599649626, 0.8430222423123759]\n",
      "Applying Brier Score with Gradient Boosting Model for each Female to predict mortality.\n",
      " [0.055450709813665296, 0.05486807390026542, 0.054012984010801186, 0.05341937973003899, 0.0529627089149477]\n",
      "Applying Gradient Boosting Model for each Man to predict mortality.\n",
      " [0.8172496031183734, 0.8278164058791055, 0.8299328639943058, 0.8349445909550611, 0.8388521376570568]\n",
      "Applying Brier Score with Gradient Boosting Model for each Man to predict mortality.\n",
      " [0.06220932684964621, 0.06097897168493888, 0.06022417515777647, 0.05955728797628922, 0.0594716304285485]\n"
     ]
    }
   ],
   "source": [
    "print(\"Applying Gradient Boosting Model for each Female to predict mortality.\\n\",aucsGBCF)\n",
    "print(\"Applying Brier Score with Gradient Boosting Model for each Female to predict mortality.\\n\",bsGBCF)\n",
    "print(\"Applying Gradient Boosting Model for each Man to predict mortality.\\n\",aucsGBCM)\n",
    "print(\"Applying Brier Score with Gradient Boosting Model for each Man to predict mortality.\\n\",bsGBCM)"
   ]
  },
  {
   "cell_type": "code",
   "execution_count": 25,
   "metadata": {},
   "outputs": [
    {
     "name": "stdout",
     "output_type": "stream",
     "text": [
      "Logistic Regression with Ridge for Female AUC(95%CI)for the score: [0.823 - 0.843]\n",
      "Logistic Regression with Ridge for Female Brier score (95%CI): [0.053 - 0.0555]\n",
      "Logistic Regression with Ridge for Men AUC(95%CI)for the score: [0.775 - 0.806]\n",
      "Logistic Regression with Ridge for Men Brier score (95%CI): [0.062 - 0.0595]\n"
     ]
    }
   ],
   "source": [
    "sorted_scoresGBCFauc = np.array(aucsGBCF)\n",
    "sorted_scoresGBCFbs = np.array(bsGBCF)\n",
    "sorted_scoresGBCFauc.sort()\n",
    "sorted_scoresGBCFbs.sort()\n",
    "# we used to 0.025 and 0.975 to get 95% confidence interval instead.\n",
    "confidence_lowerLRRFauc = sorted_scoresGBCFauc[int(0.025 * len(aucsGBCF))]\n",
    "confidence_upperLRRFauc = sorted_scoresGBCFauc[int(0.975 * len(aucsGBCF))]\n",
    "print(\"Logistic Regression with Ridge for Female AUC(95%CI)for the score: [{:0.3f} - {:0.3}]\".format(\n",
    "    confidence_lowerLRRFauc, confidence_upperLRRFauc))\n",
    "confidence_lowerGBCFbs = sorted_scoresGBCFbs[int(0.025 * len(bsGBCF))]\n",
    "confidence_upperGBCFbs = sorted_scoresGBCFbs[int(0.975 * len(bsGBCF))]\n",
    "print(\"Logistic Regression with Ridge for Female Brier score (95%CI): [{:0.3f} - {:0.3}]\".format(\n",
    "    confidence_lowerGBCFbs, confidence_upperGBCFbs))\n",
    "\n",
    "sorted_scoresGBCMauc = np.array(aucsl2M)\n",
    "sorted_scoresGBCMbs = np.array(bsGBCM)\n",
    "sorted_scoresLRRMauc.sort()\n",
    "sorted_scoresLRRMbs.sort()\n",
    "# we used to 0.025 and 0.975 to get 95% confidence interval instead.\n",
    "confidence_lowerGBCMauc = sorted_scoresGBCMauc[int(0.025 * len(aucsGBCM))]\n",
    "confidence_upperGBCMauc = sorted_scoresGBCMauc[int(0.975 * len(aucsGBCM))]\n",
    "print(\"Logistic Regression with Ridge for Men AUC(95%CI)for the score: [{:0.3f} - {:0.3}]\".format(\n",
    "    confidence_lowerGBCMauc, confidence_upperGBCMauc))\n",
    "confidence_lowerGBCMbs = sorted_scoresGBCMbs[int(0.025 * len(bsGBCM))]\n",
    "confidence_upperGBCMbs = sorted_scoresGBCMbs[int(0.975 * len(bsGBCM))]\n",
    "print(\"Logistic Regression with Ridge for Men Brier score (95%CI): [{:0.3f} - {:0.3}]\".format(\n",
    "    confidence_lowerGBCMbs, confidence_upperGBCMbs))"
   ]
  },
  {
   "cell_type": "code",
   "execution_count": 26,
   "metadata": {},
   "outputs": [
    {
     "name": "stdout",
     "output_type": "stream",
     "text": [
      "Applying Logistic regression model with Lasso for each Female to predict mortality\n",
      " [0.7760620920054281, 0.7915835308504628, 0.7938250996898157, 0.8013583655546146, 0.8088217724212051]\n",
      "Applying Logistic regression model with Lasso for each Man to predict mortality\n",
      " [0.77491080022407, 0.7904363347500122, 0.7942982750964288, 0.7992165318809918, 0.8056996216378136]\n",
      "Applying Logistic regression model with Ridge for each Female to predict mortality\n",
      " [0.7760328508138711, 0.7915992708877633, 0.7938292736706465, 0.8013542087191344, 0.8088389094366717]\n",
      "Applying Logistic regression model with Ridge for each Man to predict mortality\n",
      " [0.7749006427497841, 0.7903977108454338, 0.794311640067149, 0.7992427378310225, 0.8056988448523426]\n",
      "Applying Gradient Boosting Model for each Female to predict mortality.\n",
      " [0.8234153375523068, 0.8323400140362973, 0.835048498797261, 0.8414416599649626, 0.8430222423123759]\n",
      "Applying Gradient Boosting Model for each Man to predict mortality.\n",
      " [0.8172496031183734, 0.8278164058791055, 0.8299328639943058, 0.8349445909550611, 0.8388521376570568]\n",
      "\n",
      "Applying  Brier Score with Logistic regression model with Lasso for each Female to predict mortality\n",
      " [0.06189786906907122, 0.060892828457689424, 0.06056203089972477, 0.05992995197687629, 0.05948906845758387]\n",
      "Applying Brier Score with Logistic regression model with Lasso for each Man to predict mortality\n",
      " [0.06843981672947241, 0.0673889929884961, 0.06687983043982189, 0.06623671033180618, 0.0660819291503878]\n",
      "Applying Brier Score with Logistic regression model with Ridge for each Female to predict mortality\n",
      " [0.06190189541898443, 0.06089339856506567, 0.060561318238564324, 0.05992488663648095, 0.059480190318040346]\n",
      "Applying Brier Score with Logistic regression model with Ridge for each Man to predict mortality\n",
      " [0.06844114046708018, 0.06738860908783924, 0.0668761368248241, 0.06623007378478567, 0.066082038531666]\n",
      "Applying Brier Score with Gradient Boosting Model for each Female to predict mortality.\n",
      " [0.055450709813665296, 0.05486807390026542, 0.054012984010801186, 0.05341937973003899, 0.0529627089149477]\n",
      "Applying Brier Score with Gradient Boosting Model for each Man to predict mortality.\n",
      " [0.06220932684964621, 0.06097897168493888, 0.06022417515777647, 0.05955728797628922, 0.0594716304285485]\n"
     ]
    }
   ],
   "source": [
    "print(\"Applying Logistic regression model with Lasso for each Female to predict mortality\\n\",aucsl1F)\n",
    "print(\"Applying Logistic regression model with Lasso for each Man to predict mortality\\n\",aucsl1M)\n",
    "print(\"Applying Logistic regression model with Ridge for each Female to predict mortality\\n\",aucsl2F)\n",
    "print(\"Applying Logistic regression model with Ridge for each Man to predict mortality\\n\",aucsl2M)\n",
    "print(\"Applying Gradient Boosting Model for each Female to predict mortality.\\n\",aucsGBCF)\n",
    "print(\"Applying Gradient Boosting Model for each Man to predict mortality.\\n\",aucsGBCM)\n",
    "print(\"\\nApplying  Brier Score with Logistic regression model with Lasso for each Female to predict mortality\\n\",bsLRLF)\n",
    "print(\"Applying Brier Score with Logistic regression model with Lasso for each Man to predict mortality\\n\",bsLRLM)\n",
    "print(\"Applying Brier Score with Logistic regression model with Ridge for each Female to predict mortality\\n\",bsLRRF)\n",
    "print(\"Applying Brier Score with Logistic regression model with Ridge for each Man to predict mortality\\n\",bsLRRM)\n",
    "print(\"Applying Brier Score with Gradient Boosting Model for each Female to predict mortality.\\n\",bsGBCF)\n",
    "print(\"Applying Brier Score with Gradient Boosting Model for each Man to predict mortality.\\n\",bsGBCM)\n",
    "\n"
   ]
  },
  {
   "cell_type": "markdown",
   "metadata": {
    "nteract": {
     "transient": {
      "deleting": false
     }
    }
   },
   "source": [
    "# **Parameter Tuning in Gradient Boosting (GBM)**"
   ]
  },
  {
   "cell_type": "code",
   "execution_count": 27,
   "metadata": {
    "gather": {
     "logged": 1681462312934
    },
    "jupyter": {
     "outputs_hidden": false,
     "source_hidden": false
    },
    "nteract": {
     "transient": {
      "deleting": false
     }
    }
   },
   "outputs": [
    {
     "name": "stdout",
     "output_type": "stream",
     "text": [
      "Accuracy of the GBM on test set: 0.927\n",
      "              precision    recall  f1-score   support\n",
      "\n",
      "           0       0.68      0.14      0.23     29945\n",
      "           1       0.93      0.99      0.96    349172\n",
      "\n",
      "    accuracy                           0.93    379117\n",
      "   macro avg       0.80      0.57      0.59    379117\n",
      "weighted avg       0.91      0.93      0.90    379117\n",
      "\n"
     ]
    },
    {
     "data": {
      "image/png": "[encoded data removed]",
      "text/plain": [
       "<Figure size 640x480 with 1 Axes>"
      ]
     },
     "metadata": {},
     "output_type": "display_data"
    }
   ],
   "source": [
    "X = (df[['length_of_stay','type_of_admission','pat_age','list_poa_disease','complication_developed_count','list_all_surgeries','source_of_admission','race','sex_code']]).astype(int)#input\n",
    "\n",
    "y = (df['pat_status']).astype(int)#output\n",
    "\n",
    "X_train, X_test, y_train, y_test = train_test_split(X, y, test_size=0.2)\n",
    "\n",
    "baseline = GradientBoostingClassifier(learning_rate=0.1, n_estimators=100,max_depth=3, min_samples_split=2, min_samples_leaf=1, subsample=1,max_features='sqrt', random_state=10)\n",
    "baseline.fit(X_train,y_train)\n",
    "predictors=list(X_train)\n",
    "feat_imp = pd.Series(baseline.feature_importances_, predictors).sort_values(ascending=False)\n",
    "feat_imp.plot(kind='bar', title='Importance of Features')\n",
    "plt.ylabel('Feature Importance Score')\n",
    "print('Accuracy of the GBM on test set: {:.3f}'.format(baseline.score(X_test, y_test)))\n",
    "pred=baseline.predict(X_test)\n",
    "print(classification_report(y_test, pred))"
   ]
  },
  {
   "cell_type": "markdown",
   "metadata": {
    "nteract": {
     "transient": {
      "deleting": false
     }
    }
   },
   "source": [
    "# Parameter Tuning in Gradient Boosting (GBM) with Women"
   ]
  },
  {
   "cell_type": "code",
   "execution_count": 38,
   "metadata": {
    "gather": {
     "logged": 1681462312952
    },
    "jupyter": {
     "outputs_hidden": false,
     "source_hidden": false
    },
    "nteract": {
     "transient": {
      "deleting": false
     }
    }
   },
   "outputs": [
    {
     "name": "stdout",
     "output_type": "stream",
     "text": [
      "Accuracy of the GBM on test set: 0.931\n",
      "              precision    recall  f1-score   support\n",
      "\n",
      "           0       0.70      0.13      0.22     14833\n",
      "           1       0.93      1.00      0.96    183988\n",
      "\n",
      "    accuracy                           0.93    198821\n",
      "   macro avg       0.82      0.56      0.59    198821\n",
      "weighted avg       0.92      0.93      0.91    198821\n",
      "\n"
     ]
    },
    {
     "data": {
      "image/png": "[encoded data removed]",
      "text/plain": [
       "<Figure size 640x480 with 1 Axes>"
      ]
     },
     "metadata": {},
     "output_type": "display_data"
    }
   ],
   "source": [
    "dfl1F = df[['length_of_stay','type_of_admission','pat_age','list_poa_disease','complication_developed_count','list_all_surgeries','source_of_admission','race','sex_code','pat_status']].copy()\n",
    "dfl1F=df.loc[df['sex_code'] == 1]\n",
    "dfl1F = dfl1F.reset_index(drop=True)\n",
    "\n",
    "X = dfl1F[['length_of_stay','type_of_admission','pat_age','list_poa_disease','complication_developed_count','list_all_surgeries','source_of_admission','race']]#input\n",
    "\n",
    "y = (dfl1F['pat_status']).astype(int)#output\n",
    "\n",
    "X_train, X_test, y_train, y_test = train_test_split(X, y, test_size=0.2)\n",
    "\n",
    "baseline = GradientBoostingClassifier(learning_rate=0.1, n_estimators=100,max_depth=3, min_samples_split=2, min_samples_leaf=1, subsample=1,max_features='sqrt', random_state=10)\n",
    "baseline.fit(X_train,y_train)\n",
    "predictors=list(X_train)\n",
    "feat_imp = pd.Series(baseline.feature_importances_, predictors).sort_values(ascending=False)\n",
    "#feat_imp.plot(kind='bar', title='Importance of Features')\n",
    "feat_imp.plot(kind='bar', title='Importance of Features in Women', color='pink')\n",
    "plt.ylabel('Feature Importance Score')\n",
    "print('Accuracy of the GBM on test set: {:.3f}'.format(baseline.score(X_test, y_test)))\n",
    "pred=baseline.predict(X_test)\n",
    "print(classification_report(y_test, pred))"
   ]
  },
  {
   "cell_type": "markdown",
   "metadata": {
    "nteract": {
     "transient": {
      "deleting": false
     }
    }
   },
   "source": [
    "# **Parameter Tuning in Gradient Boosting (GBM) with Men**"
   ]
  },
  {
   "cell_type": "code",
   "execution_count": 39,
   "metadata": {
    "gather": {
     "logged": 1681462312972
    },
    "jupyter": {
     "outputs_hidden": false,
     "source_hidden": false
    },
    "nteract": {
     "transient": {
      "deleting": false
     }
    }
   },
   "outputs": [
    {
     "name": "stdout",
     "output_type": "stream",
     "text": [
      "Accuracy of the GBM on test set: 0.927\n",
      "              precision    recall  f1-score   support\n",
      "\n",
      "           0       0.72      0.21      0.32     15033\n",
      "           1       0.93      0.99      0.96    165263\n",
      "\n",
      "    accuracy                           0.93    180296\n",
      "   macro avg       0.83      0.60      0.64    180296\n",
      "weighted avg       0.91      0.93      0.91    180296\n",
      "\n"
     ]
    },
    {
     "data": {
      "image/png": "[encoded data removed]",
      "text/plain": [
       "<Figure size 640x480 with 1 Axes>"
      ]
     },
     "metadata": {},
     "output_type": "display_data"
    },
    {
     "name": "stderr",
     "output_type": "stream",
     "text": [
      "Bad pipe message: %s [b'\\xe1\\xc64E\\xaa\\xfc<\\xacb`\\x92t\\xdc\\xeb\\xc8\\t\\xa7\\xb2 \\xee\\x82\\x04K\\xdb\\n\\xb7\\xa3\\xdc\\xf7\\xf1\\xf4\\x969\\x90\\x9f\\xf2\\xa1\\x19\\x18\\xc0']\n",
      "Bad pipe message: %s [b'\\xd3\\x12\\x18\\x15\\x03m\\n4\\xaf\\x00\\x08\\x13\\x02\\x13\\x03\\x13\\x01\\x00\\xff\\x01\\x00\\x00\\x8f\\x00\\x00\\x00\\x0e\\x00\\x0c\\x00\\x00\\t127.0.0.1\\x00\\x0b\\x00']\n",
      "Bad pipe message: %s [b'\\xe5H\\xc0\\x98\\xdda^u\\x14\\xdc\\x17B\\xa0\\x9ey}*0 \\x10\\x90\\x84\\x97C\\xf7\\x88s\\xb0\\xa1\\xe2\\xb9L\\x91\\x0c#t\\xdd+\\xbc\\x9c\\xb3\\xae\\xc6J\\xd4\\x90\\xe35\\x03\\x0b\\x0b\\x00\\x08\\x13\\x02\\x13\\x03\\x13\\x01\\x00\\xff\\x01\\x00\\x00\\x8f\\x00\\x00\\x00\\x0e\\x00\\x0c\\x00\\x00\\t127.0.0.1\\x00\\x0b\\x00\\x04\\x03\\x00\\x01\\x02\\x00\\n\\x00\\x0c\\x00\\n\\x00\\x1d\\x00\\x17\\x00\\x1e\\x00\\x19\\x00\\x18\\x00#\\x00\\x00\\x00\\x16\\x00\\x00\\x00\\x17\\x00\\x00\\x00\\r\\x00\\x1e\\x00\\x1c\\x04\\x03\\x05', b'\\x03\\x08']\n",
      "Bad pipe message: %s [b'\\x08\\x08\\t\\x08\\n\\x08']\n",
      "Bad pipe message: %s [b'\\x04\\x08\\x05\\x08\\x06\\x04\\x01\\x05\\x01\\x06']\n",
      "Bad pipe message: %s [b'']\n",
      "Bad pipe message: %s [b'\\x03\\x02\\x03\\x04\\x00-\\x00\\x02\\x01\\x01\\x003\\x00&\\x00$\\x00\\x1d\\x00 R\\x98\\xf1\\x1d\\xcbU[\\xb1\\x19$z\\xc8\\x88\\xe6c\\xb9\\xe3\\x8dq\\xae\\xff5']\n",
      "Bad pipe message: %s [b'\\n\\x9d\\xd1\\x80\\x8f\\xc3{f\\xe2C\\x05\\x84\\x80\\xe4\\xb9\\x8a\\xb03\\x00\\x00\\xa2\\xc0\\x14\\xc0']\n",
      "Bad pipe message: %s [b'9\\x008\\x007\\x006\\x00\\x88']\n",
      "Bad pipe message: %s [b'P\\x9a\\xbd\\xbb\\x9b\\xb1GzOO{K]\\x8bU`S1\\x00\\x00>\\xc0\\x14\\xc0\\n\\x009\\x00', b'7\\x006\\xc0\\x0f\\xc0\\x05\\x005\\xc0\\x13\\xc0\\t\\x003\\x002\\x001\\x000\\xc0\\x0e\\xc0\\x04\\x00/\\x00\\x9a\\x00\\x99\\x00\\x98\\x00\\x97\\x00\\x96\\x00\\x07\\xc0\\x11\\xc0\\x07\\xc0\\x0c\\xc0\\x02\\x00\\x05\\x00\\x04\\x00\\xff\\x02\\x01']\n",
      "Bad pipe message: %s [b'\\x9f\\xaf\\xda\\xc7\\xa0\\x1a\\xad\\xaf\\xbf\\xc6\\xab\\xfbL9\\xdc\\xdf^\\xe1\\x00\\x00\\xa2\\xc0\\x14\\xc0\\n\\x009\\x008\\x007\\x006\\x00\\x88\\x00\\x87\\x00\\x86\\x00\\x85\\xc0\\x19\\x00:\\x00\\x89\\xc0\\x0f\\xc0\\x05\\x005\\x00\\x84\\xc0\\x13\\xc0\\t\\x00']\n",
      "Bad pipe message: %s [b'2\\x001\\x000\\x00\\x9a\\x00\\x99\\x00\\x98\\x00\\x97\\x00E\\x00D\\x00C\\x00B\\xc0\\x18\\x004\\x00\\x9b\\x00F\\xc0\\x0e\\xc0\\x04\\x00/\\x00\\x96\\x00A\\x00\\x07\\xc0\\x11\\xc0\\x07\\xc0\\x16\\x00\\x18\\xc0']\n",
      "Bad pipe message: %s [b'\\x02\\x00\\x05\\x00\\x04\\xc0\\x12\\xc0\\x08\\x00\\x16']\n",
      "Bad pipe message: %s [b'+2\\x9eBP\\x10\\x08\\xafZy\\xab\\x966\\x91J$\\xa1\\xe7\\x00\\x00\\xa2\\xc0\\x14\\xc0\\n\\x009\\x008\\x007\\x006\\x00\\x88\\x00\\x87\\x00\\x86\\x00\\x85\\xc0\\x19\\x00:\\x00\\x89\\xc0\\x0f\\xc0\\x05\\x005\\x00\\x84']\n",
      "Bad pipe message: %s [b'\\x8b\\xdf\\xf0\\x961a/\\xda\\xbf\\x98\\xcf\\x8b2Hx}\\xe3\\xf9\\x00\\x00\\x86\\xc00\\xc0,\\xc0(\\xc0$\\xc0\\x14\\xc0\\n\\x00\\xa5\\x00\\xa3\\x00\\xa1\\x00\\x9f\\x00k\\x00j\\x00i\\x00h\\x009\\x008\\x007\\x006\\xc02\\xc0.\\xc0*\\xc0&\\xc0\\x0f\\xc0\\x05\\x00\\x9d\\x00']\n",
      "Bad pipe message: %s [b\"5\\xc0/\\xc0+\\xc0'\\xc0#\\xc0\\x13\\xc0\\t\\x00\\xa4\\x00\\xa2\\x00\\xa0\\x00\\x9e\\x00g\\x00@\\x00?\\x00>\\x003\\x002\\x001\\x000\\xc01\\xc0-\\xc0)\\xc0%\\xc0\\x0e\\xc0\\x04\\x00\\x9c\\x00<\\x00/\\x00\\x9a\\x00\\x99\\x00\"]\n",
      "Bad pipe message: %s [b\"/:\\x82?\\xc3\\x03\\xcf\\x0f\\x93\\xf7\\xa4\\xa3\\x1e\\xf9\\xcc\\x95z\\xa6\\x00\\x00\\xf4\\xc00\\xc0,\\xc0(\\xc0$\\xc0\\x14\\xc0\\n\\x00\\xa5\\x00\\xa3\\x00\\xa1\\x00\\x9f\\x00k\\x00j\\x00i\\x00h\\x009\\x008\\x007\\x006\\x00\\x88\\x00\\x87\\x00\\x86\\x00\\x85\\xc0\\x19\\x00\\xa7\\x00m\\x00:\\x00\\x89\\xc02\\xc0.\\xc0*\\xc0&\\xc0\\x0f\\xc0\\x05\\x00\\x9d\\x00=\\x005\\x00\\x84\\xc0/\\xc0+\\xc0'\\xc0#\\xc0\\x13\\xc0\\t\\x00\\xa4\\x00\\xa2\\x00\\xa0\\x00\\x9e\\x00g\\x00@\\x00?\\x00>\\x003\\x002\\x001\\x000\\x00\\x9a\\x00\\x99\\x00\\x98\\x00\\x97\\x00E\\x00D\\x00C\\x00B\\xc0\\x18\\x00\"]\n",
      "Bad pipe message: %s [b'l\\x004\\x00\\x9b\\x00F\\xc01\\xc0-\\xc0)\\xc0%\\xc0\\x0e\\xc0\\x04\\x00\\x9c\\x00<\\x00/\\x00\\x96\\x00A\\x00\\x07\\xc0\\x11\\xc0\\x07\\xc0\\x16\\x00\\x18\\xc0\\x0c\\xc0\\x02\\x00\\x05\\x00\\x04\\xc0\\x12\\xc0\\x08\\x00\\x16\\x00\\x13\\x00\\x10\\x00\\r\\xc0\\x17\\x00\\x1b\\xc0\\r\\xc0\\x03\\x00\\n\\x00\\x15\\x00\\x12\\x00\\x0f\\x00\\x0c\\x00\\x1a\\x00\\t\\x00\\x14\\x00\\x11\\x00\\x19\\x00\\x08\\x00\\x06\\x00\\x17\\x00\\x03\\xc0\\x10\\xc0\\x06\\xc0\\x15\\xc0\\x0b\\xc0\\x01\\x00;\\x00\\x02\\x00\\x01\\x00\\xff\\x02\\x01\\x00\\x00g\\x00\\x00\\x00\\x0e\\x00\\x0c\\x00\\x00\\t127.0.0.1\\x00\\x0b\\x00\\x04\\x03\\x00\\x01\\x02\\x00\\n\\x00\\x1c\\x00\\x1a\\x00\\x17\\x00\\x19\\x00\\x1c\\x00\\x1b\\x00\\x18\\x00\\x1a\\x00\\x16\\x00']\n",
      "Bad pipe message: %s [b'\\r\\x00\\x0b\\x00\\x0c\\x00\\t\\x00\\n\\x00#\\x00\\x00']\n"
     ]
    }
   ],
   "source": [
    "dfl1M = df[['illness_severity','length_of_stay','type_of_admission','pat_age','list_poa_disease','complication_developed_count','list_all_surgeries','source_of_admission','race','sex_code','pat_status']].copy()\n",
    "dfl1M=df.loc[df['sex_code'] == 0]\n",
    "dfl1M = dfl1M.reset_index(drop=True)\n",
    "\n",
    "X = dfl1M[['illness_severity','length_of_stay','type_of_admission','pat_age','list_poa_disease','complication_developed_count','list_all_surgeries','source_of_admission','race']]#input\n",
    "\n",
    "y = (dfl1M['pat_status']).astype(int)#output\n",
    "\n",
    "X_train, X_test, y_train, y_test = train_test_split(X, y, test_size=0.2)\n",
    "\n",
    "baseline = GradientBoostingClassifier(learning_rate=0.1, n_estimators=100,max_depth=3, min_samples_split=2, min_samples_leaf=1, subsample=1,max_features='sqrt', random_state=10)\n",
    "baseline.fit(X_train,y_train)\n",
    "predictors=list(X_train)\n",
    "feat_imp = pd.Series(baseline.feature_importances_, predictors).sort_values(ascending=False)\n",
    "feat_imp.plot(kind='bar', title='Importance of Features in Men')\n",
    "plt.ylabel('Feature Importance Score')\n",
    "print('Accuracy of the GBM on test set: {:.3f}'.format(baseline.score(X_test, y_test)))\n",
    "pred=baseline.predict(X_test)\n",
    "print(classification_report(y_test, pred))"
   ]
  },
  {
   "cell_type": "markdown",
   "metadata": {},
   "source": [
    "# RR Ratio(95 % CI)"
   ]
  },
  {
   "cell_type": "code",
   "execution_count": 33,
   "metadata": {},
   "outputs": [
    {
     "name": "stdout",
     "output_type": "stream",
     "text": [
      "Optimization terminated successfully.\n",
      "         Current function value: 0.270088\n",
      "         Iterations 7\n"
     ]
    },
    {
     "data": {
      "text/html": [
       "<div>\n",
       "<style scoped>\n",
       "    .dataframe tbody tr th:only-of-type {\n",
       "        vertical-align: middle;\n",
       "    }\n",
       "\n",
       "    .dataframe tbody tr th {\n",
       "        vertical-align: top;\n",
       "    }\n",
       "\n",
       "    .dataframe thead th {\n",
       "        text-align: right;\n",
       "    }\n",
       "</style>\n",
       "<table border=\"1\" class=\"dataframe\">\n",
       "  <thead>\n",
       "    <tr style=\"text-align: right;\">\n",
       "      <th></th>\n",
       "      <th>Lower CI</th>\n",
       "      <th>Upper CI</th>\n",
       "      <th>OR ratio</th>\n",
       "      <th>RR ratio</th>\n",
       "    </tr>\n",
       "  </thead>\n",
       "  <tbody>\n",
       "    <tr>\n",
       "      <th>illness_severity</th>\n",
       "      <td>0.546466</td>\n",
       "      <td>0.558575</td>\n",
       "      <td>0.552487</td>\n",
       "      <td>0.552487</td>\n",
       "    </tr>\n",
       "    <tr>\n",
       "      <th>length_of_stay</th>\n",
       "      <td>1.083995</td>\n",
       "      <td>1.087144</td>\n",
       "      <td>1.085568</td>\n",
       "      <td>1.085568</td>\n",
       "    </tr>\n",
       "    <tr>\n",
       "      <th>type_of_admission</th>\n",
       "      <td>1.966176</td>\n",
       "      <td>2.055458</td>\n",
       "      <td>2.010322</td>\n",
       "      <td>2.010322</td>\n",
       "    </tr>\n",
       "    <tr>\n",
       "      <th>pat_age</th>\n",
       "      <td>1.059764</td>\n",
       "      <td>1.063352</td>\n",
       "      <td>1.061557</td>\n",
       "      <td>1.061557</td>\n",
       "    </tr>\n",
       "    <tr>\n",
       "      <th>list_poa_disease</th>\n",
       "      <td>0.993410</td>\n",
       "      <td>0.998803</td>\n",
       "      <td>0.996102</td>\n",
       "      <td>0.996084</td>\n",
       "    </tr>\n",
       "    <tr>\n",
       "      <th>complication_developed_count</th>\n",
       "      <td>0.937448</td>\n",
       "      <td>0.949855</td>\n",
       "      <td>0.943631</td>\n",
       "      <td>0.943631</td>\n",
       "    </tr>\n",
       "    <tr>\n",
       "      <th>list_all_surgeries</th>\n",
       "      <td>0.849600</td>\n",
       "      <td>0.853554</td>\n",
       "      <td>0.851575</td>\n",
       "      <td>0.851575</td>\n",
       "    </tr>\n",
       "    <tr>\n",
       "      <th>source_of_admission</th>\n",
       "      <td>0.923142</td>\n",
       "      <td>0.935535</td>\n",
       "      <td>0.929318</td>\n",
       "      <td>0.929318</td>\n",
       "    </tr>\n",
       "    <tr>\n",
       "      <th>race</th>\n",
       "      <td>1.911978</td>\n",
       "      <td>1.947478</td>\n",
       "      <td>1.929647</td>\n",
       "      <td>1.929647</td>\n",
       "    </tr>\n",
       "  </tbody>\n",
       "</table>\n",
       "</div>"
      ],
      "text/plain": [
       "                              Lower CI  Upper CI  OR ratio  RR ratio\n",
       "illness_severity              0.546466  0.558575  0.552487  0.552487\n",
       "length_of_stay                1.083995  1.087144  1.085568  1.085568\n",
       "type_of_admission             1.966176  2.055458  2.010322  2.010322\n",
       "pat_age                       1.059764  1.063352  1.061557  1.061557\n",
       "list_poa_disease              0.993410  0.998803  0.996102  0.996084\n",
       "complication_developed_count  0.937448  0.949855  0.943631  0.943631\n",
       "list_all_surgeries            0.849600  0.853554  0.851575  0.851575\n",
       "source_of_admission           0.923142  0.935535  0.929318  0.929318\n",
       "race                          1.911978  1.947478  1.929647  1.929647"
      ]
     },
     "execution_count": 33,
     "metadata": {},
     "output_type": "execute_result"
    }
   ],
   "source": [
    "from sklearn.linear_model import LogisticRegression\n",
    "import statsmodels.api as sm\n",
    "\n",
    "reg = sm.Logit(y, X).fit()\n",
    "reg.summary()\n",
    "\n",
    "RR = reg.params  / (1 - reg.pvalues + (reg.pvalues * reg.params ))\n",
    "conf = reg.conf_int()\n",
    "conf['OR ratio'] = reg.params\n",
    "conf['RR ratio'] = RR\n",
    "#conf['pvalues'] = reg.pvalues\n",
    "#conf['coef'] = reg.params.values\n",
    "conf.columns = [\"Lower CI\", \"Upper CI\", \"OR ratio\",\"RR ratio\"]\n",
    "np.exp(conf)"
   ]
  },
  {
   "cell_type": "markdown",
   "metadata": {},
   "source": [
    "# RR Ratio(95 % CI) For Female"
   ]
  },
  {
   "cell_type": "code",
   "execution_count": 30,
   "metadata": {},
   "outputs": [
    {
     "name": "stdout",
     "output_type": "stream",
     "text": [
      "Optimization terminated successfully.\n",
      "         Current function value: 0.249865\n",
      "         Iterations 7\n"
     ]
    },
    {
     "data": {
      "text/html": [
       "<div>\n",
       "<style scoped>\n",
       "    .dataframe tbody tr th:only-of-type {\n",
       "        vertical-align: middle;\n",
       "    }\n",
       "\n",
       "    .dataframe tbody tr th {\n",
       "        vertical-align: top;\n",
       "    }\n",
       "\n",
       "    .dataframe thead th {\n",
       "        text-align: right;\n",
       "    }\n",
       "</style>\n",
       "<table border=\"1\" class=\"dataframe\">\n",
       "  <thead>\n",
       "    <tr style=\"text-align: right;\">\n",
       "      <th></th>\n",
       "      <th>Lower CI</th>\n",
       "      <th>Upper CI</th>\n",
       "      <th>OR ratio For Female</th>\n",
       "      <th>RR ratio For Female</th>\n",
       "    </tr>\n",
       "  </thead>\n",
       "  <tbody>\n",
       "    <tr>\n",
       "      <th>illness_severity</th>\n",
       "      <td>0.556245</td>\n",
       "      <td>0.568677</td>\n",
       "      <td>0.562427</td>\n",
       "      <td>0.562427</td>\n",
       "    </tr>\n",
       "    <tr>\n",
       "      <th>length_of_stay</th>\n",
       "      <td>1.100731</td>\n",
       "      <td>1.104285</td>\n",
       "      <td>1.102506</td>\n",
       "      <td>1.102506</td>\n",
       "    </tr>\n",
       "    <tr>\n",
       "      <th>type_of_admission</th>\n",
       "      <td>2.025773</td>\n",
       "      <td>2.119043</td>\n",
       "      <td>2.071883</td>\n",
       "      <td>2.071883</td>\n",
       "    </tr>\n",
       "    <tr>\n",
       "      <th>pat_age</th>\n",
       "      <td>1.057411</td>\n",
       "      <td>1.061010</td>\n",
       "      <td>1.059209</td>\n",
       "      <td>1.059209</td>\n",
       "    </tr>\n",
       "    <tr>\n",
       "      <th>list_poa_disease</th>\n",
       "      <td>0.999924</td>\n",
       "      <td>1.005568</td>\n",
       "      <td>1.002742</td>\n",
       "      <td>1.002906</td>\n",
       "    </tr>\n",
       "    <tr>\n",
       "      <th>complication_developed_count</th>\n",
       "      <td>0.921101</td>\n",
       "      <td>0.934063</td>\n",
       "      <td>0.927560</td>\n",
       "      <td>0.927560</td>\n",
       "    </tr>\n",
       "    <tr>\n",
       "      <th>list_all_surgeries</th>\n",
       "      <td>0.820439</td>\n",
       "      <td>0.824725</td>\n",
       "      <td>0.822579</td>\n",
       "      <td>0.822579</td>\n",
       "    </tr>\n",
       "    <tr>\n",
       "      <th>source_of_admission</th>\n",
       "      <td>0.920432</td>\n",
       "      <td>0.932695</td>\n",
       "      <td>0.926543</td>\n",
       "      <td>0.926543</td>\n",
       "    </tr>\n",
       "    <tr>\n",
       "      <th>race</th>\n",
       "      <td>1.900661</td>\n",
       "      <td>1.936037</td>\n",
       "      <td>1.918267</td>\n",
       "      <td>1.918267</td>\n",
       "    </tr>\n",
       "  </tbody>\n",
       "</table>\n",
       "</div>"
      ],
      "text/plain": [
       "                              Lower CI  Upper CI  OR ratio For Female   \n",
       "illness_severity              0.556245  0.568677             0.562427  \\\n",
       "length_of_stay                1.100731  1.104285             1.102506   \n",
       "type_of_admission             2.025773  2.119043             2.071883   \n",
       "pat_age                       1.057411  1.061010             1.059209   \n",
       "list_poa_disease              0.999924  1.005568             1.002742   \n",
       "complication_developed_count  0.921101  0.934063             0.927560   \n",
       "list_all_surgeries            0.820439  0.824725             0.822579   \n",
       "source_of_admission           0.920432  0.932695             0.926543   \n",
       "race                          1.900661  1.936037             1.918267   \n",
       "\n",
       "                              RR ratio For Female  \n",
       "illness_severity                         0.562427  \n",
       "length_of_stay                           1.102506  \n",
       "type_of_admission                        2.071883  \n",
       "pat_age                                  1.059209  \n",
       "list_poa_disease                         1.002906  \n",
       "complication_developed_count             0.927560  \n",
       "list_all_surgeries                       0.822579  \n",
       "source_of_admission                      0.926543  \n",
       "race                                     1.918267  "
      ]
     },
     "execution_count": 30,
     "metadata": {},
     "output_type": "execute_result"
    }
   ],
   "source": [
    "from sklearn.linear_model import LogisticRegression\n",
    "import statsmodels.api as sm\n",
    "\n",
    "dfl1F = df[['illness_severity','length_of_stay','type_of_admission','pat_age','list_poa_disease','complication_developed_count','list_all_surgeries','source_of_admission','race','sex_code','pat_status']].copy()\n",
    "dfl1F=df.loc[df['sex_code'] == 1]\n",
    "dfl1F = dfl1F.reset_index(drop=True)\n",
    "\n",
    "X = dfl1F[['illness_severity','length_of_stay','type_of_admission','pat_age','list_poa_disease','complication_developed_count','list_all_surgeries','source_of_admission','race']]#input\n",
    "\n",
    "y = (dfl1F['pat_status']).astype(int)#output\n",
    "\n",
    "reg = sm.Logit(y, X).fit()\n",
    "reg.summary()\n",
    "RR = reg.params  / (1 - reg.pvalues + (reg.pvalues * reg.params ))\n",
    "conf = reg.conf_int()\n",
    "conf['OR ratio For Female'] = reg.params\n",
    "conf['RR ratio For Female'] = RR\n",
    "#conf['pvalues'] = reg.pvalues\n",
    "#conf['coef'] = reg.params.values\n",
    "conf.columns = [\"Lower CI\", \"Upper CI\", \"OR ratio For Female\",\"RR ratio For Female\"]\n",
    "np.exp(conf)\n"
   ]
  },
  {
   "cell_type": "markdown",
   "metadata": {},
   "source": [
    "# RR Ratio(95 % CI) For Men"
   ]
  },
  {
   "cell_type": "code",
   "execution_count": 31,
   "metadata": {
    "scrolled": true
   },
   "outputs": [
    {
     "name": "stdout",
     "output_type": "stream",
     "text": [
      "Optimization terminated successfully.\n",
      "         Current function value: 0.270088\n",
      "         Iterations 7\n"
     ]
    },
    {
     "data": {
      "text/html": [
       "<div>\n",
       "<style scoped>\n",
       "    .dataframe tbody tr th:only-of-type {\n",
       "        vertical-align: middle;\n",
       "    }\n",
       "\n",
       "    .dataframe tbody tr th {\n",
       "        vertical-align: top;\n",
       "    }\n",
       "\n",
       "    .dataframe thead th {\n",
       "        text-align: right;\n",
       "    }\n",
       "</style>\n",
       "<table border=\"1\" class=\"dataframe\">\n",
       "  <thead>\n",
       "    <tr style=\"text-align: right;\">\n",
       "      <th></th>\n",
       "      <th>Lower CI</th>\n",
       "      <th>Upper CI</th>\n",
       "      <th>OR ratio For Men</th>\n",
       "      <th>RR ratio For Men</th>\n",
       "    </tr>\n",
       "  </thead>\n",
       "  <tbody>\n",
       "    <tr>\n",
       "      <th>illness_severity</th>\n",
       "      <td>0.546466</td>\n",
       "      <td>0.558575</td>\n",
       "      <td>0.552487</td>\n",
       "      <td>0.552487</td>\n",
       "    </tr>\n",
       "    <tr>\n",
       "      <th>length_of_stay</th>\n",
       "      <td>1.083995</td>\n",
       "      <td>1.087144</td>\n",
       "      <td>1.085568</td>\n",
       "      <td>1.085568</td>\n",
       "    </tr>\n",
       "    <tr>\n",
       "      <th>type_of_admission</th>\n",
       "      <td>1.966176</td>\n",
       "      <td>2.055458</td>\n",
       "      <td>2.010322</td>\n",
       "      <td>2.010322</td>\n",
       "    </tr>\n",
       "    <tr>\n",
       "      <th>pat_age</th>\n",
       "      <td>1.059764</td>\n",
       "      <td>1.063352</td>\n",
       "      <td>1.061557</td>\n",
       "      <td>1.061557</td>\n",
       "    </tr>\n",
       "    <tr>\n",
       "      <th>list_poa_disease</th>\n",
       "      <td>0.993410</td>\n",
       "      <td>0.998803</td>\n",
       "      <td>0.996102</td>\n",
       "      <td>0.996084</td>\n",
       "    </tr>\n",
       "    <tr>\n",
       "      <th>complication_developed_count</th>\n",
       "      <td>0.937448</td>\n",
       "      <td>0.949855</td>\n",
       "      <td>0.943631</td>\n",
       "      <td>0.943631</td>\n",
       "    </tr>\n",
       "    <tr>\n",
       "      <th>list_all_surgeries</th>\n",
       "      <td>0.849600</td>\n",
       "      <td>0.853554</td>\n",
       "      <td>0.851575</td>\n",
       "      <td>0.851575</td>\n",
       "    </tr>\n",
       "    <tr>\n",
       "      <th>source_of_admission</th>\n",
       "      <td>0.923142</td>\n",
       "      <td>0.935535</td>\n",
       "      <td>0.929318</td>\n",
       "      <td>0.929318</td>\n",
       "    </tr>\n",
       "    <tr>\n",
       "      <th>race</th>\n",
       "      <td>1.911978</td>\n",
       "      <td>1.947478</td>\n",
       "      <td>1.929647</td>\n",
       "      <td>1.929647</td>\n",
       "    </tr>\n",
       "  </tbody>\n",
       "</table>\n",
       "</div>"
      ],
      "text/plain": [
       "                              Lower CI  Upper CI  OR ratio For Men   \n",
       "illness_severity              0.546466  0.558575          0.552487  \\\n",
       "length_of_stay                1.083995  1.087144          1.085568   \n",
       "type_of_admission             1.966176  2.055458          2.010322   \n",
       "pat_age                       1.059764  1.063352          1.061557   \n",
       "list_poa_disease              0.993410  0.998803          0.996102   \n",
       "complication_developed_count  0.937448  0.949855          0.943631   \n",
       "list_all_surgeries            0.849600  0.853554          0.851575   \n",
       "source_of_admission           0.923142  0.935535          0.929318   \n",
       "race                          1.911978  1.947478          1.929647   \n",
       "\n",
       "                              RR ratio For Men  \n",
       "illness_severity                      0.552487  \n",
       "length_of_stay                        1.085568  \n",
       "type_of_admission                     2.010322  \n",
       "pat_age                               1.061557  \n",
       "list_poa_disease                      0.996084  \n",
       "complication_developed_count          0.943631  \n",
       "list_all_surgeries                    0.851575  \n",
       "source_of_admission                   0.929318  \n",
       "race                                  1.929647  "
      ]
     },
     "execution_count": 31,
     "metadata": {},
     "output_type": "execute_result"
    }
   ],
   "source": [
    "from sklearn.linear_model import LogisticRegression\n",
    "import statsmodels.api as sm\n",
    "\n",
    "dfl1F = df[['illness_severity','length_of_stay','type_of_admission','pat_age','list_poa_disease','complication_developed_count','list_all_surgeries','source_of_admission','race','sex_code','pat_status']].copy()\n",
    "dfl1F=df.loc[df['sex_code'] == 0]\n",
    "dfl1F = dfl1F.reset_index(drop=True)\n",
    "\n",
    "X = dfl1F[['illness_severity','length_of_stay','type_of_admission','pat_age','list_poa_disease','complication_developed_count','list_all_surgeries','source_of_admission','race']]#input\n",
    "\n",
    "y = (dfl1F['pat_status']).astype(int)#output\n",
    "\n",
    "reg = sm.Logit(y, X).fit()\n",
    "reg.summary()\n",
    "\n",
    "RR = reg.params  / (1 - reg.pvalues + (reg.pvalues * reg.params ))\n",
    "conf = reg.conf_int()\n",
    "conf['OR ratio For Men'] = reg.params\n",
    "conf['RR ratio For Men'] = RR\n",
    "#conf['pvalues'] = reg.pvalues\n",
    "#conf['coef'] = reg.params.values\n",
    "conf.columns = [\"Lower CI\", \"Upper CI\", \"OR ratio For Men\",\"RR ratio For Men\"]\n",
    "np.exp(conf)"
   ]
  },
  {
   "cell_type": "code",
   "execution_count": 32,
   "metadata": {},
   "outputs": [
    {
     "name": "stdout",
     "output_type": "stream",
     "text": [
      "Optimization terminated successfully.\n",
      "         Current function value: 0.270088\n",
      "         Iterations 7\n"
     ]
    },
    {
     "data": {
      "text/html": [
       "<table class=\"simpletable\">\n",
       "<caption>Logit Regression Results</caption>\n",
       "<tr>\n",
       "  <th>Dep. Variable:</th>      <td>pat_status</td>    <th>  No. Observations:  </th>   <td>901478</td>   \n",
       "</tr>\n",
       "<tr>\n",
       "  <th>Model:</th>                 <td>Logit</td>      <th>  Df Residuals:      </th>   <td>901469</td>   \n",
       "</tr>\n",
       "<tr>\n",
       "  <th>Method:</th>                 <td>MLE</td>       <th>  Df Model:          </th>   <td>     8</td>   \n",
       "</tr>\n",
       "<tr>\n",
       "  <th>Date:</th>            <td>Tue, 24 Oct 2023</td> <th>  Pseudo R-squ.:     </th>   <td>0.05922</td>  \n",
       "</tr>\n",
       "<tr>\n",
       "  <th>Time:</th>                <td>04:37:07</td>     <th>  Log-Likelihood:    </th> <td>-2.4348e+05</td>\n",
       "</tr>\n",
       "<tr>\n",
       "  <th>converged:</th>             <td>True</td>       <th>  LL-Null:           </th> <td>-2.5880e+05</td>\n",
       "</tr>\n",
       "<tr>\n",
       "  <th>Covariance Type:</th>     <td>nonrobust</td>    <th>  LLR p-value:       </th>   <td> 0.000</td>   \n",
       "</tr>\n",
       "</table>\n",
       "<table class=\"simpletable\">\n",
       "<tr>\n",
       "                <td></td>                  <th>coef</th>     <th>std err</th>      <th>z</th>      <th>P>|z|</th>  <th>[0.025</th>    <th>0.975]</th>  \n",
       "</tr>\n",
       "<tr>\n",
       "  <th>illness_severity</th>             <td>   -0.5933</td> <td>    0.006</td> <td> -106.115</td> <td> 0.000</td> <td>   -0.604</td> <td>   -0.582</td>\n",
       "</tr>\n",
       "<tr>\n",
       "  <th>length_of_stay</th>               <td>    0.0821</td> <td>    0.001</td> <td>  110.926</td> <td> 0.000</td> <td>    0.081</td> <td>    0.084</td>\n",
       "</tr>\n",
       "<tr>\n",
       "  <th>type_of_admission</th>            <td>    0.6983</td> <td>    0.011</td> <td>   61.639</td> <td> 0.000</td> <td>    0.676</td> <td>    0.720</td>\n",
       "</tr>\n",
       "<tr>\n",
       "  <th>pat_age</th>                      <td>    0.0597</td> <td>    0.001</td> <td>   69.287</td> <td> 0.000</td> <td>    0.058</td> <td>    0.061</td>\n",
       "</tr>\n",
       "<tr>\n",
       "  <th>list_poa_disease</th>             <td>   -0.0039</td> <td>    0.001</td> <td>   -2.828</td> <td> 0.005</td> <td>   -0.007</td> <td>   -0.001</td>\n",
       "</tr>\n",
       "<tr>\n",
       "  <th>complication_developed_count</th> <td>   -0.0580</td> <td>    0.003</td> <td>  -17.297</td> <td> 0.000</td> <td>   -0.065</td> <td>   -0.051</td>\n",
       "</tr>\n",
       "<tr>\n",
       "  <th>list_all_surgeries</th>           <td>   -0.1607</td> <td>    0.001</td> <td> -135.647</td> <td> 0.000</td> <td>   -0.163</td> <td>   -0.158</td>\n",
       "</tr>\n",
       "<tr>\n",
       "  <th>source_of_admission</th>          <td>   -0.0733</td> <td>    0.003</td> <td>  -21.549</td> <td> 0.000</td> <td>   -0.080</td> <td>   -0.067</td>\n",
       "</tr>\n",
       "<tr>\n",
       "  <th>race</th>                         <td>    0.6573</td> <td>    0.005</td> <td>  140.063</td> <td> 0.000</td> <td>    0.648</td> <td>    0.667</td>\n",
       "</tr>\n",
       "</table>"
      ],
      "text/plain": [
       "<class 'statsmodels.iolib.summary.Summary'>\n",
       "\"\"\"\n",
       "                           Logit Regression Results                           \n",
       "==============================================================================\n",
       "Dep. Variable:             pat_status   No. Observations:               901478\n",
       "Model:                          Logit   Df Residuals:                   901469\n",
       "Method:                           MLE   Df Model:                            8\n",
       "Date:                Tue, 24 Oct 2023   Pseudo R-squ.:                 0.05922\n",
       "Time:                        04:37:07   Log-Likelihood:            -2.4348e+05\n",
       "converged:                       True   LL-Null:                   -2.5880e+05\n",
       "Covariance Type:            nonrobust   LLR p-value:                     0.000\n",
       "================================================================================================\n",
       "                                   coef    std err          z      P>|z|      [0.025      0.975]\n",
       "------------------------------------------------------------------------------------------------\n",
       "illness_severity                -0.5933      0.006   -106.115      0.000      -0.604      -0.582\n",
       "length_of_stay                   0.0821      0.001    110.926      0.000       0.081       0.084\n",
       "type_of_admission                0.6983      0.011     61.639      0.000       0.676       0.720\n",
       "pat_age                          0.0597      0.001     69.287      0.000       0.058       0.061\n",
       "list_poa_disease                -0.0039      0.001     -2.828      0.005      -0.007      -0.001\n",
       "complication_developed_count    -0.0580      0.003    -17.297      0.000      -0.065      -0.051\n",
       "list_all_surgeries              -0.1607      0.001   -135.647      0.000      -0.163      -0.158\n",
       "source_of_admission             -0.0733      0.003    -21.549      0.000      -0.080      -0.067\n",
       "race                             0.6573      0.005    140.063      0.000       0.648       0.667\n",
       "================================================================================================\n",
       "\"\"\""
      ]
     },
     "execution_count": 32,
     "metadata": {},
     "output_type": "execute_result"
    }
   ],
   "source": [
    "from sklearn.linear_model import LogisticRegression\n",
    "import statsmodels.api as sm\n",
    "\n",
    "res = sm.Logit(y, X).fit()\n",
    "res.summary()"
   ]
  }
 ],
 "metadata": {
  "kernel_info": {
   "name": "python310-sdkv2"
  },
  "kernelspec": {
   "display_name": "Python 3.10 - SDK v2",
   "language": "python",
   "name": "python310-sdkv2"
  },
  "language_info": {
   "codemirror_mode": {
    "name": "ipython",
    "version": 3
   },
   "file_extension": ".py",
   "mimetype": "text/x-python",
   "name": "python",
   "nbconvert_exporter": "python",
   "pygments_lexer": "ipython3",
   "version": "3.10.10"
  },
  "microsoft": {
   "host": {
    "AzureML": {
     "notebookHasBeenCompleted": true
    }
   },
   "ms_spell_check": {
    "ms_spell_check_language": "en"
   }
  },
  "nteract": {
   "version": "nteract-front-end@1.0.0"
  }
 },
 "nbformat": 4,
 "nbformat_minor": 2
}
